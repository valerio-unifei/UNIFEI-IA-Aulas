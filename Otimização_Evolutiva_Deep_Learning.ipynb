{
  "nbformat": 4,
  "nbformat_minor": 0,
  "metadata": {
    "colab": {
      "name": "Otimização Evolutiva - Deep Learning.ipynb",
      "provenance": [],
      "authorship_tag": "ABX9TyOb2sMfW3RCkVy51x7wotbX",
      "include_colab_link": true
    },
    "kernelspec": {
      "name": "python3",
      "display_name": "Python 3"
    },
    "language_info": {
      "name": "python"
    }
  },
  "cells": [
    {
      "cell_type": "markdown",
      "metadata": {
        "id": "view-in-github",
        "colab_type": "text"
      },
      "source": [
        "<a href=\"https://colab.research.google.com/github/valerio-unifei/UNIFEI-IA-Aulas/blob/main/Otimiza%C3%A7%C3%A3o_Evolutiva_Deep_Learning.ipynb\" target=\"_parent\"><img src=\"https://colab.research.google.com/assets/colab-badge.svg\" alt=\"Open In Colab\"/></a>"
      ]
    },
    {
      "cell_type": "markdown",
      "source": [
        "# Otimização Evolutiva"
      ],
      "metadata": {
        "id": "zwmiNx_M1dff"
      }
    },
    {
      "cell_type": "markdown",
      "source": [
        "<img src=\"https://user-images.githubusercontent.com/16560492/89446279-9c6f8380-d754-11ea-83fd-a60ea2f53b85.jpg\" height=\"800\">"
      ],
      "metadata": {
        "id": "Af7Q55Rzc5_7"
      }
    },
    {
      "cell_type": "markdown",
      "source": [
        "## PYMOO - Multi Objetives Optimization"
      ],
      "metadata": {
        "id": "uW5_ua6V3zZH"
      }
    },
    {
      "cell_type": "markdown",
      "source": [
        "https://github.com/anyoptimization/pymoo"
      ],
      "metadata": {
        "id": "H42zfUEK1f3z"
      }
    },
    {
      "cell_type": "code",
      "source": [
        "!pip install -U pymoo"
      ],
      "metadata": {
        "id": "WZLD86Cb1dFU"
      },
      "execution_count": null,
      "outputs": []
    },
    {
      "cell_type": "markdown",
      "source": [
        "### Uso Básico"
      ],
      "metadata": {
        "id": "FLefbGmRhMm7"
      }
    },
    {
      "cell_type": "markdown",
      "source": [
        "* Problema = zdt1\n",
        "* Algoritmo de otimização = NSGA2\n",
        "* População = 100\n",
        "* Gerações = 200"
      ],
      "metadata": {
        "id": "7hM9_gfK3-Qo"
      }
    },
    {
      "cell_type": "code",
      "execution_count": null,
      "metadata": {
        "id": "q8WecNOM1Z2P"
      },
      "outputs": [],
      "source": [
        "from pymoo.algorithms.moo.nsga2 import NSGA2\n",
        "from pymoo.factory import get_problem\n",
        "from pymoo.optimize import minimize\n",
        "from pymoo.visualization.scatter import Scatter\n",
        "\n",
        "# https://pymoo.org/problems/test_problems.html\n",
        "problem = get_problem(\"zdt1\")\n",
        "\n",
        "# https://pymoo.org/algorithms/list.html\n",
        "algorithm = NSGA2(pop_size=100)\n",
        "\n",
        "res = minimize(problem,\n",
        "               algorithm,\n",
        "               ('n_gen', 200),\n",
        "               seed=42,\n",
        "               verbose=False)\n",
        "\n",
        "plot = Scatter()\n",
        "plot.add(problem.pareto_front(), plot_type=\"line\", color=\"black\", alpha=0.7)\n",
        "plot.add(res.F, color=\"red\")\n",
        "_ = plot.show()"
      ]
    },
    {
      "cell_type": "markdown",
      "source": [
        "### Customizando Problema"
      ],
      "metadata": {
        "id": "rpXn3gHF11bR"
      }
    },
    {
      "cell_type": "code",
      "source": [
        "import numpy as np\n",
        "from pymoo.core.problem import ElementwiseProblem\n",
        "from pymoo.algorithms.moo.nsga2 import NSGA2\n",
        "from pymoo.factory import get_sampling, get_crossover, get_mutation\n",
        "from pymoo.factory import get_termination\n",
        "from pymoo.optimize import minimize\n",
        "\n",
        "class MyProblem(ElementwiseProblem):\n",
        "\n",
        "    def __init__(self):\n",
        "        super().__init__(n_var=2,\n",
        "                         n_obj=2,\n",
        "                         n_constr=2,\n",
        "                         xl=np.array([-2,-2]),\n",
        "                         xu=np.array([2,2]))\n",
        "\n",
        "    def _evaluate(self, x, out, *args, **kwargs):\n",
        "        f1 = 100 * (x[0]**2 + x[1]**2)\n",
        "        f2 = (x[0]-1)**2 + x[1]**2\n",
        "\n",
        "        g1 = 2*(x[0]-0.1) * (x[0]-0.9) / 0.18\n",
        "        g2 = - 20*(x[0]-0.4) * (x[0]-0.6) / 4.8\n",
        "\n",
        "        out[\"F\"] = [f1, f2] # notas\n",
        "        out[\"G\"] = [g1, g2] # restrição\n",
        "\n",
        "\n",
        "problem = MyProblem()\n",
        "\n",
        "algorithm = NSGA2(\n",
        "      pop_size=40,\n",
        "      n_offsprings=10,\n",
        "      sampling=get_sampling(\"real_random\"),\n",
        "      crossover=get_crossover(\"real_sbx\", prob=0.9, eta=15),\n",
        "      mutation=get_mutation(\"real_pm\", eta=20),\n",
        "      eliminate_duplicates=True,\n",
        "  )\n",
        "\n",
        "termination = get_termination(\"n_gen\", 200)\n",
        "\n",
        "res = minimize(problem,\n",
        "               algorithm,\n",
        "               termination,\n",
        "               seed=42,\n",
        "               save_history=False,\n",
        "               verbose=False)\n",
        "\n",
        "plot = Scatter()\n",
        "plot.add(res.F, color=\"red\")\n",
        "_ = plot.show()"
      ],
      "metadata": {
        "id": "QcLWFkXC11Gg"
      },
      "execution_count": null,
      "outputs": []
    },
    {
      "cell_type": "markdown",
      "source": [
        "### Problema de alocação ótima"
      ],
      "metadata": {
        "id": "ogOVL6sbN-0j"
      }
    },
    {
      "cell_type": "markdown",
      "source": [
        "Resolvendo um problema de seleção de local de instalação e tipo de loja (um tipo de problema de seleção de subconjunto) por algoritmo evolutivo usando o pacote pymoo\n",
        "\n",
        "Autor: Samrat Nath\n",
        "\n",
        "* https://pymoo.org/customization/discrete.html\n",
        "* https://pymoo.org/problems/definition.html\n",
        "* https://pymoo.org/algorithms/soo/ga.html#nb-ga"
      ],
      "metadata": {
        "id": "rK03M7G0PrXV"
      }
    },
    {
      "cell_type": "code",
      "source": [
        "import numpy as np\n",
        "from pymoo.factory import get_algorithm, get_crossover, get_mutation, get_sampling\n",
        "from pymoo.optimize import minimize\n",
        "from pymoo.core.problem import Problem\n",
        "from pymoo.visualization.scatter import Scatter\n",
        "\n",
        "# Mapas de estimativa financeira (em milhões)\n",
        "S_mat = np.array([[75, 50, 25], [70, 40, 20], [65, 35, 15]])     # Vendas \n",
        "C_mat = np.array([[35, 20, 10], [35, 20, 10], [30, 18, 8]])     # Custos\n",
        "N_mat = np.array([[10, 6, 4], [10, 5, 3], [9, 5, 3]])     # Valor Presente Líquido\n",
        "I_mat = np.array([[3, 2, 1], [3, 2, 1], [3, 2, 1]])     # Impacto\n",
        "\n",
        "# Representação vetorial das matrizes\n",
        "sales, cost, npv, impact = S_mat.flatten(), C_mat.flatten(), N_mat.flatten(), I_mat.flatten()\n",
        "\n",
        "# Restrições do Negócio (em milhões)\n",
        "CAPEX_LIMIT = 55    # Limite de despesa de capital                            \n",
        "MIN_MKT_SALES = 105  # Vendas mínimas do mercado\n",
        "\n",
        "NUM_LOC = 3      # Numero possivel de locações das novas lojas\n",
        "NUM_FMT = 3      # Numero tipos de lojas\n",
        "STORE_LIMIT = 2  # Numero limite total de lojas\n",
        "\n",
        "con_mat = np.zeros((NUM_FMT*NUM_LOC, NUM_LOC), dtype=int)\n",
        "for i in range(NUM_LOC):\n",
        "    con_mat[i*NUM_FMT:(i+1)*NUM_FMT,i] = 1 \n",
        "\n",
        "#Problema\n",
        "class LojasLocal(Problem):\n",
        "    # Problema da mochila modificado\n",
        "    def __init__(self):\n",
        "        super().__init__(n_var = NUM_LOC*NUM_FMT,\n",
        "                         n_obj = 1,\n",
        "                         n_constr = NUM_LOC+2,\n",
        "                         xl = 0,\n",
        "                         xu = 1,\n",
        "                         type_var = int\n",
        "                         )\n",
        "\n",
        "    def _evaluate(self, X, out, *args, **kwargs):\n",
        "        # Objetivos e restrições\n",
        "        out[\"F\"] = -np.sum(X*(npv-impact), axis=1)\n",
        "        g1 = np.sum(X*cost, axis=1) - CAPEX_LIMIT\n",
        "        g2 = -(np.sum(X*sales, axis=1) - MIN_MKT_SALES)\n",
        "        # restrição de formato de loja, 1 por locação\n",
        "        g3 = (X@con_mat) -1 \n",
        "        g4 = np.sum(X, axis=1) - STORE_LIMIT           \n",
        "        out[\"G\"] = np.column_stack([g1, g2, g3, g4]) \n",
        "\n",
        "# solução\n",
        "# https://pymoo.org/algorithms/list.html\n",
        "algoritmo = get_algorithm(\"ga\",\n",
        "                       pop_size=50,\n",
        "                       sampling=get_sampling(\"int_random\"),\n",
        "                       crossover=get_crossover(\"int_sbx\", prob=1.0, eta=3.0),\n",
        "                       mutation=get_mutation(\"int_pm\", eta=3.0),\n",
        "                       eliminate_duplicates=True,\n",
        "                       )\n",
        "\n",
        "res = minimize(LojasLocal(),\n",
        "               algoritmo,\n",
        "               termination=('n_gen', 100),\n",
        "               seed=42,\n",
        "               save_history=True\n",
        "               )\n",
        "\n",
        "print(\"Melhor Solução: %s\" % res.X)\n",
        "print(\"Valor da solução: %s\" % res.F)\n",
        "print(\"Violação da restrição: %s\" % res.CV)\n",
        "\n",
        "# Soluções do Problema (Pop=2) \n",
        "# x = np.array([[0, 1, 0, 1, 0, 0, 0, 0, 0],\n",
        "#               [0, 1, 0, 0, 0, 0, 1, 0, 0]])\n",
        "\n",
        "\n",
        "import matplotlib.pyplot as plt\n",
        "# numero de avaliações por geração\n",
        "n_evals = np.array([e.evaluator.n_eval for e in res.history])  \n",
        "# melhor avaliação por geração\n",
        "opt = np.array([e.opt[0].F for e in res.history])\n",
        "\n",
        "plt.title(\"Convergence\")\n",
        "plt.plot(n_evals, opt, \"--\")\n",
        "plt.show()"
      ],
      "metadata": {
        "id": "_KbUliIKOA-K"
      },
      "execution_count": null,
      "outputs": []
    },
    {
      "cell_type": "markdown",
      "source": [
        "## Otimização Evolutiva em Deep Learning"
      ],
      "metadata": {
        "id": "uhrg_bLt7j3h"
      }
    },
    {
      "cell_type": "markdown",
      "source": [
        "https://pygad.readthedocs.io/en/latest/"
      ],
      "metadata": {
        "id": "oOaKF_p57oIF"
      }
    },
    {
      "cell_type": "code",
      "source": [
        "!pip install pygad"
      ],
      "metadata": {
        "id": "2XDEbIsaebko"
      },
      "execution_count": null,
      "outputs": []
    },
    {
      "cell_type": "markdown",
      "source": [
        "### Aprendizado Regressivo com Keras"
      ],
      "metadata": {
        "id": "zjmoni_NeoY_"
      }
    },
    {
      "cell_type": "code",
      "source": [
        "import keras\n",
        "import pygad.kerasga\n",
        "import numpy\n",
        "import pygad\n",
        "\n",
        "# função de avaliação\n",
        "def fitness_func(solution, sol_idx):\n",
        "    global data_inputs, data_outputs, keras_ga, model\n",
        "    # pesos dos neurônios extraídos do indivíduo\n",
        "    model_weights_matrix = pygad.kerasga.model_weights_as_matrix(model=model, weights_vector=solution)\n",
        "    # inserindo pesos no modelo\n",
        "    model.set_weights(weights=model_weights_matrix)\n",
        "    # previsão do modelo\n",
        "    predictions = model.predict(data_inputs)\n",
        "    # erro da previsão em relação ao tutor\n",
        "    mae = keras.losses.MeanAbsoluteError()\n",
        "    abs_error = mae(data_outputs, predictions).numpy() + 0.00000001\n",
        "    # avaliação\n",
        "    solution_fitness = 1.0 / abs_error\n",
        "    return solution_fitness\n",
        "\n",
        "# impressão de geração\n",
        "def callback_generation(ga_instance):\n",
        "  generation=ga_instance.generations_completed\n",
        "  bestFit=ga_instance.best_solution()[1]\n",
        "  print(f'Geração {generation} Melhor nota: {bestFit}')\n",
        "\n",
        "# modelo da rede \n",
        "input_layer  = keras.layers.Input(3)\n",
        "dense_layer1 = keras.layers.Dense(5, activation=\"relu\")(input_layer)\n",
        "output_layer = keras.layers.Dense(1, activation=\"linear\")(dense_layer1)\n",
        "model = keras.Model(inputs=input_layer, outputs=output_layer)\n",
        "\n",
        "# pesos dos neurônios do modelo\n",
        "weights_vector = pygad.kerasga.model_weights_as_vector(model=model)\n",
        "\n",
        "# problema\n",
        "keras_ga = pygad.kerasga.KerasGA(model=model, num_solutions=10)\n",
        "\n",
        "# Atributos de entrada\n",
        "data_inputs = numpy.array([[0.02, 0.1, 0.15],\n",
        "                           [0.7, 0.6, 0.8],\n",
        "                           [1.5, 1.2, 1.7],\n",
        "                           [3.2, 2.9, 3.1]])\n",
        "\n",
        "# tutor regressivo\n",
        "data_outputs = numpy.array([[0.1],\n",
        "                            [0.6],\n",
        "                            [1.3],\n",
        "                            [2.5]])\n",
        "\n",
        "num_generations = 250\n",
        "num_parents_mating = 5\n",
        "initial_population = keras_ga.population_weights\n",
        "\n",
        "# otimização\n",
        "ga_instance = pygad.GA(num_generations=num_generations, \n",
        "                       num_parents_mating=num_parents_mating, \n",
        "                       initial_population=initial_population,\n",
        "                       fitness_func=fitness_func,\n",
        "                       on_generation=callback_generation)\n",
        "ga_instance.run()\n",
        "\n",
        "# resultados\n",
        "ga_instance.plot_fitness(title=\"Treinamento Regressivo\", linewidth=4)\n",
        "\n",
        "# Returning the details of the best solution.\n",
        "solution, solution_fitness, solution_idx = ga_instance.best_solution()\n",
        "print(\"Melhor Solução = {solution_fitness}\".format(solution_fitness=solution_fitness))\n",
        "\n",
        "# Fetch the parameters of the best solution.\n",
        "best_solution_weights = pygad.kerasga.model_weights_as_matrix(model=model,\n",
        "                                                              weights_vector=solution)\n",
        "model.set_weights(best_solution_weights)\n",
        "predictions = model.predict(data_inputs)\n",
        "print(\"Predição: \\n\", predictions)\n",
        "\n",
        "mae = keras.losses.MeanAbsoluteError()\n",
        "abs_error = mae(data_outputs, predictions).numpy()\n",
        "print(\"MAE: \", abs_error)"
      ],
      "metadata": {
        "id": "wb0htSX8ehAw"
      },
      "execution_count": null,
      "outputs": []
    },
    {
      "cell_type": "markdown",
      "source": [
        "# Atividade "
      ],
      "metadata": {
        "id": "PNl85r4be_QX"
      }
    },
    {
      "cell_type": "markdown",
      "source": [
        "## Enunciado\n",
        "\n",
        "Dado seu número de matrícula, realize a otimização dos problemas selecionados com as técnicas sorteadas.\n",
        "\n",
        "Use o código do problema alocação ótima como modelo."
      ],
      "metadata": {
        "id": "03MxTHE-g2Su"
      }
    },
    {
      "cell_type": "code",
      "source": [
        "import random\n",
        "\n",
        "Matricula = 8867 #@param {type:\"integer\"}\n",
        "random.seed(Matricula)\n",
        "\n",
        "# https://pymoo.org/problems/test_problems.html\n",
        "problemas = ['Ackley','Griewank','Rastrigin','Rosenbrock','Zakharov']\n",
        "# https://pymoo.org/algorithms/list.html\n",
        "algortimos = ['ga', 'brkga', 'de', 'nelder-mead', 'pattern-search', 'cmaes', 'pso', 'nsga2', 'rnsga2', 'nsga3', 'unsga3', 'rnsga3', 'moead', 'ctaea']\n",
        "\n",
        "random.shuffle(problemas)\n",
        "random.shuffle(algortimos)\n",
        "\n",
        "print('Problemas:', problemas[:2])\n",
        "print('Otimizações:', algortimos[:3])"
      ],
      "metadata": {
        "id": "Mk6DoyGgnm0h"
      },
      "execution_count": null,
      "outputs": []
    },
    {
      "cell_type": "markdown",
      "source": [
        "## Solução"
      ],
      "metadata": {
        "id": "XZnR2smhpr4W"
      }
    },
    {
      "cell_type": "code",
      "source": [
        "\n"
      ],
      "metadata": {
        "id": "7HUbPA6Epre_"
      },
      "execution_count": null,
      "outputs": []
    }
  ]
}
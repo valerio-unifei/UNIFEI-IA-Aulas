{
  "nbformat": 4,
  "nbformat_minor": 0,
  "metadata": {
    "colab": {
      "name": "Otimização Evolutiva - Deep Learning.ipynb",
      "provenance": [],
      "toc_visible": true,
      "authorship_tag": "ABX9TyMXeZZQvBh5CkEOfUoZwKWf",
      "include_colab_link": true
    },
    "kernelspec": {
      "name": "python3",
      "display_name": "Python 3"
    },
    "language_info": {
      "name": "python"
    }
  },
  "cells": [
    {
      "cell_type": "markdown",
      "metadata": {
        "id": "view-in-github",
        "colab_type": "text"
      },
      "source": [
        "<a href=\"https://colab.research.google.com/github/valerio-unifei/UNIFEI-IA-Aulas/blob/main/Otimiza%C3%A7%C3%A3o_Evolutiva_Deep_Learning.ipynb\" target=\"_parent\"><img src=\"https://colab.research.google.com/assets/colab-badge.svg\" alt=\"Open In Colab\"/></a>"
      ]
    },
    {
      "cell_type": "markdown",
      "source": [
        "# Otimização Evolutiva"
      ],
      "metadata": {
        "id": "zwmiNx_M1dff"
      }
    },
    {
      "cell_type": "markdown",
      "source": [
        "<img src=\"https://user-images.githubusercontent.com/16560492/89446279-9c6f8380-d754-11ea-83fd-a60ea2f53b85.jpg\" height=\"800\">"
      ],
      "metadata": {
        "id": "Af7Q55Rzc5_7"
      }
    },
    {
      "cell_type": "markdown",
      "source": [
        "## PYMOO - Multi Objetives Optimization"
      ],
      "metadata": {
        "id": "uW5_ua6V3zZH"
      }
    },
    {
      "cell_type": "markdown",
      "source": [
        "https://github.com/anyoptimization/pymoo"
      ],
      "metadata": {
        "id": "H42zfUEK1f3z"
      }
    },
    {
      "cell_type": "code",
      "source": [
        "!pip install -U pymoo"
      ],
      "metadata": {
        "colab": {
          "base_uri": "https://localhost:8080/"
        },
        "id": "WZLD86Cb1dFU",
        "outputId": "be930cea-7887-4246-b5a8-920184f1d47d"
      },
      "execution_count": 1,
      "outputs": [
        {
          "output_type": "stream",
          "name": "stdout",
          "text": [
            "Collecting pymoo\n",
            "  Downloading pymoo-0.5.0-cp37-cp37m-manylinux_2_5_x86_64.manylinux1_x86_64.manylinux_2_12_x86_64.manylinux2010_x86_64.whl (2.5 MB)\n",
            "\u001b[K     |████████████████████████████████| 2.5 MB 4.4 MB/s \n",
            "\u001b[?25hRequirement already satisfied: numpy>=1.15 in /usr/local/lib/python3.7/dist-packages (from pymoo) (1.21.6)\n",
            "Collecting cma==2.7\n",
            "  Downloading cma-2.7.0-py2.py3-none-any.whl (239 kB)\n",
            "\u001b[K     |████████████████████████████████| 239 kB 52.1 MB/s \n",
            "\u001b[?25hRequirement already satisfied: matplotlib>=3 in /usr/local/lib/python3.7/dist-packages (from pymoo) (3.2.2)\n",
            "Requirement already satisfied: autograd>=1.3 in /usr/local/lib/python3.7/dist-packages (from pymoo) (1.4)\n",
            "Requirement already satisfied: scipy>=1.1 in /usr/local/lib/python3.7/dist-packages (from pymoo) (1.4.1)\n",
            "Requirement already satisfied: future>=0.15.2 in /usr/local/lib/python3.7/dist-packages (from autograd>=1.3->pymoo) (0.16.0)\n",
            "Requirement already satisfied: python-dateutil>=2.1 in /usr/local/lib/python3.7/dist-packages (from matplotlib>=3->pymoo) (2.8.2)\n",
            "Requirement already satisfied: pyparsing!=2.0.4,!=2.1.2,!=2.1.6,>=2.0.1 in /usr/local/lib/python3.7/dist-packages (from matplotlib>=3->pymoo) (3.0.8)\n",
            "Requirement already satisfied: kiwisolver>=1.0.1 in /usr/local/lib/python3.7/dist-packages (from matplotlib>=3->pymoo) (1.4.2)\n",
            "Requirement already satisfied: cycler>=0.10 in /usr/local/lib/python3.7/dist-packages (from matplotlib>=3->pymoo) (0.11.0)\n",
            "Requirement already satisfied: typing-extensions in /usr/local/lib/python3.7/dist-packages (from kiwisolver>=1.0.1->matplotlib>=3->pymoo) (4.2.0)\n",
            "Requirement already satisfied: six>=1.5 in /usr/local/lib/python3.7/dist-packages (from python-dateutil>=2.1->matplotlib>=3->pymoo) (1.15.0)\n",
            "Installing collected packages: cma, pymoo\n",
            "Successfully installed cma-2.7.0 pymoo-0.5.0\n"
          ]
        }
      ]
    },
    {
      "cell_type": "markdown",
      "source": [
        "### Uso Básico"
      ],
      "metadata": {
        "id": "FLefbGmRhMm7"
      }
    },
    {
      "cell_type": "markdown",
      "source": [
        "* Problema = zdt1\n",
        "* Algoritmo de otimização = NSGA2\n",
        "* População = 100\n",
        "* Gerações = 200"
      ],
      "metadata": {
        "id": "7hM9_gfK3-Qo"
      }
    },
    {
      "cell_type": "code",
      "execution_count": 3,
      "metadata": {
        "colab": {
          "base_uri": "https://localhost:8080/",
          "height": 391
        },
        "id": "q8WecNOM1Z2P",
        "outputId": "9c8ccd5d-c1e2-4886-cf4b-c6c08e2c7430"
      },
      "outputs": [
        {
          "output_type": "display_data",
          "data": {
            "text/plain": [
              "<Figure size 576x432 with 1 Axes>"
            ],
            "image/png": "[encoded data removed]"
          },
          "metadata": {
            "needs_background": "light"
          }
        }
      ],
      "source": [
        "from pymoo.algorithms.moo.nsga2 import NSGA2\n",
        "from pymoo.factory import get_problem\n",
        "from pymoo.optimize import minimize\n",
        "from pymoo.visualization.scatter import Scatter\n",
        "\n",
        "# https://pymoo.org/problems/test_problems.html\n",
        "problem = get_problem(\"zdt1\")\n",
        "\n",
        "# https://pymoo.org/algorithms/list.html\n",
        "algorithm = NSGA2(pop_size=100)\n",
        "\n",
        "res = minimize(problem,\n",
        "               algorithm,\n",
        "               ('n_gen', 200),\n",
        "               seed=42,\n",
        "               verbose=False)\n",
        "\n",
        "plot = Scatter()\n",
        "plot.add(problem.pareto_front(), plot_type=\"line\", color=\"black\", alpha=0.7)\n",
        "plot.add(res.F, color=\"red\")\n",
        "_ = plot.show()"
      ]
    },
    {
      "cell_type": "markdown",
      "source": [
        "### Customizando Problema"
      ],
      "metadata": {
        "id": "rpXn3gHF11bR"
      }
    },
    {
      "cell_type": "code",
      "source": [
        "import numpy as np\n",
        "from pymoo.core.problem import ElementwiseProblem\n",
        "from pymoo.algorithms.moo.nsga2 import NSGA2\n",
        "from pymoo.factory import get_sampling, get_crossover, get_mutation\n",
        "from pymoo.factory import get_termination\n",
        "from pymoo.optimize import minimize\n",
        "\n",
        "class MyProblem(ElementwiseProblem):\n",
        "\n",
        "    def __init__(self):\n",
        "        super().__init__(n_var=2,\n",
        "                         n_obj=2,\n",
        "                         n_constr=2,\n",
        "                         xl=np.array([-2,-2]),\n",
        "                         xu=np.array([2,2]))\n",
        "\n",
        "    def _evaluate(self, x, out, *args, **kwargs):\n",
        "        f1 = 100 * (x[0]**2 + x[1]**2)\n",
        "        f2 = (x[0]-1)**2 + x[1]**2\n",
        "\n",
        "        g1 = 2*(x[0]-0.1) * (x[0]-0.9) / 0.18\n",
        "        g2 = - 20*(x[0]-0.4) * (x[0]-0.6) / 4.8\n",
        "\n",
        "        out[\"F\"] = [f1, f2] # notas\n",
        "        out[\"G\"] = [g1, g2] # restrição\n",
        "\n",
        "\n",
        "problem = MyProblem()\n",
        "\n",
        "algorithm = NSGA2(\n",
        "      pop_size=40,\n",
        "      n_offsprings=10,\n",
        "      sampling=get_sampling(\"real_random\"),\n",
        "      crossover=get_crossover(\"real_sbx\", prob=0.9, eta=15),\n",
        "      mutation=get_mutation(\"real_pm\", eta=20),\n",
        "      eliminate_duplicates=True\n",
        "  )\n",
        "\n",
        "termination = get_termination(\"n_gen\", 200)\n",
        "\n",
        "res = minimize(problem,\n",
        "               algorithm,\n",
        "               termination,\n",
        "               seed=42,\n",
        "               save_history=False,\n",
        "               verbose=False)\n",
        "\n",
        "plot = Scatter()\n",
        "plot.add(res.F, color=\"red\")\n",
        "_ = plot.show()"
      ],
      "metadata": {
        "colab": {
          "base_uri": "https://localhost:8080/",
          "height": 391
        },
        "id": "QcLWFkXC11Gg",
        "outputId": "4fd26b1e-da4d-4542-8e86-08ae30b2c73e"
      },
      "execution_count": null,
      "outputs": [
        {
          "output_type": "display_data",
          "data": {
            "text/plain": [
              "<Figure size 576x432 with 1 Axes>"
            ],
            "image/png": "[encoded data removed]"
          },
          "metadata": {
            "needs_background": "light"
          }
        }
      ]
    },
    {
      "cell_type": "markdown",
      "source": [
        "### Problema de alocação ótima"
      ],
      "metadata": {
        "id": "ogOVL6sbN-0j"
      }
    },
    {
      "cell_type": "markdown",
      "source": [
        "Resolvendo um problema de seleção de local de instalação e tipo de loja (um tipo de problema de seleção de subconjunto) por algoritmo evolutivo usando o pacote pymoo\n",
        "\n",
        "Autor: Samrat Nath\n",
        "\n",
        "* https://pymoo.org/customization/discrete.html\n",
        "* https://pymoo.org/problems/definition.html\n",
        "* https://pymoo.org/algorithms/soo/ga.html#nb-ga"
      ],
      "metadata": {
        "id": "rK03M7G0PrXV"
      }
    },
    {
      "cell_type": "code",
      "source": [
        "import numpy as np\n",
        "from pymoo.factory import get_algorithm, get_crossover, get_mutation, get_sampling\n",
        "from pymoo.optimize import minimize\n",
        "from pymoo.core.problem import Problem\n",
        "from pymoo.visualization.scatter import Scatter\n",
        "\n",
        "# Mapas de estimativa financeira (em milhões)\n",
        "S_mat = np.array([[75, 50, 25], [70, 40, 20], [65, 35, 15]])     # Vendas \n",
        "C_mat = np.array([[35, 20, 10], [35, 20, 10], [30, 18, 8]])     # Custos\n",
        "N_mat = np.array([[10, 6, 4], [10, 5, 3], [9, 5, 3]])     # Valor Presente Líquido\n",
        "I_mat = np.array([[3, 2, 1], [3, 2, 1], [3, 2, 1]])     # Impacto\n",
        "\n",
        "# Representação vetorial das matrizes\n",
        "sales, cost, npv, impact = S_mat.flatten(), C_mat.flatten(), N_mat.flatten(), I_mat.flatten()\n",
        "\n",
        "# Restrições do Negócio (em milhões)\n",
        "CAPEX_LIMIT = 55    # Limite de despesa de capital                            \n",
        "MIN_MKT_SALES = 105  # Vendas mínimas do mercado\n",
        "\n",
        "NUM_LOC = 3      # Numero possivel de locações das novas lojas\n",
        "NUM_FMT = 3      # Numero tipos de lojas\n",
        "STORE_LIMIT = 2  # Numero limite total de lojas\n",
        "\n",
        "con_mat = np.zeros((NUM_FMT*NUM_LOC, NUM_LOC), dtype=int)\n",
        "for i in range(NUM_LOC):\n",
        "    con_mat[i*NUM_FMT:(i+1)*NUM_FMT,i] = 1 \n",
        "\n",
        "#Problema\n",
        "class LojasLocal(Problem):\n",
        "    # Problema da mochila modificado\n",
        "    def __init__(self):\n",
        "        super().__init__(n_var = NUM_LOC*NUM_FMT,\n",
        "                         n_obj = 1,\n",
        "                         n_constr = NUM_LOC+2,\n",
        "                         xl = 0,\n",
        "                         xu = 1,\n",
        "                         type_var = int\n",
        "                         )\n",
        "\n",
        "    def _evaluate(self, X, out, *args, **kwargs):\n",
        "        # Objetivos e restrições\n",
        "        out[\"F\"] = -np.sum(X*(npv-impact), axis=1)\n",
        "        g1 = np.sum(X*cost, axis=1) - CAPEX_LIMIT\n",
        "        g2 = -(np.sum(X*sales, axis=1) - MIN_MKT_SALES)\n",
        "        # restrição de formato de loja, 1 por locação\n",
        "        g3 = (X@con_mat) -1 \n",
        "        g4 = np.sum(X, axis=1) - STORE_LIMIT           \n",
        "        out[\"G\"] = np.column_stack([g1, g2, g3, g4]) \n",
        "\n",
        "# solução\n",
        "# https://pymoo.org/algorithms/list.html\n",
        "algoritmo = get_algorithm(\"nsga2\",\n",
        "                       pop_size=50,\n",
        "                       sampling=get_sampling(\"int_random\"),\n",
        "                       crossover=get_crossover(\"int_sbx\", prob=1.0, eta=3.0),\n",
        "                       mutation=get_mutation(\"int_pm\", eta=3.0),\n",
        "                       eliminate_duplicates=True,\n",
        "                       )\n",
        "\n",
        "res = minimize(LojasLocal(),\n",
        "               algoritmo,\n",
        "               termination=('n_gen', 100),\n",
        "               seed=42,\n",
        "               save_history=True\n",
        "               )\n",
        "\n",
        "print(\"Melhor Solução: %s\" % res.X)\n",
        "print(\"Valor da solução: %s\" % res.F)\n",
        "print(\"Violação da restrição: %s\" % res.CV)\n",
        "\n",
        "# Soluções do Problema (Pop=2) \n",
        "# x = np.array([[0, 1, 0, 1, 0, 0, 0, 0, 0],\n",
        "#               [0, 1, 0, 0, 0, 0, 1, 0, 0]])\n",
        "\n",
        "\n",
        "import matplotlib.pyplot as plt\n",
        "# numero de avaliações por geração\n",
        "n_evals = np.array([e.evaluator.n_eval for e in res.history])  \n",
        "# melhor avaliação por geração\n",
        "opt = np.array([e.opt[0].F for e in res.history])\n",
        "\n",
        "plt.title(\"Convergence\")\n",
        "plt.plot(n_evals, opt, \"--\")\n",
        "plt.show()"
      ],
      "metadata": {
        "colab": {
          "base_uri": "https://localhost:8080/",
          "height": 332
        },
        "id": "_KbUliIKOA-K",
        "outputId": "1711b124-17b9-4583-d07d-956e77caad1d"
      },
      "execution_count": 15,
      "outputs": [
        {
          "output_type": "stream",
          "name": "stdout",
          "text": [
            "Melhor Solução: [0 1 0 1 0 0 0 0 0]\n",
            "Valor da solução: [-11.]\n",
            "Violação da restrição: [0.]\n"
          ]
        },
        {
          "output_type": "display_data",
          "data": {
            "text/plain": [
              "<Figure size 432x288 with 1 Axes>"
            ],
            "image/png": "[encoded data removed]"
          },
          "metadata": {
            "needs_background": "light"
          }
        }
      ]
    },
    {
      "cell_type": "markdown",
      "source": [
        "## Otimização Evolutiva em Deep Learning"
      ],
      "metadata": {
        "id": "uhrg_bLt7j3h"
      }
    },
    {
      "cell_type": "markdown",
      "source": [
        "https://pygad.readthedocs.io/en/latest/"
      ],
      "metadata": {
        "id": "oOaKF_p57oIF"
      }
    },
    {
      "cell_type": "code",
      "source": [
        "!pip install pygad"
      ],
      "metadata": {
        "colab": {
          "base_uri": "https://localhost:8080/"
        },
        "id": "2XDEbIsaebko",
        "outputId": "4c796a0f-24aa-47ba-b50e-be9a95c9017c"
      },
      "execution_count": 17,
      "outputs": [
        {
          "output_type": "stream",
          "name": "stdout",
          "text": [
            "Collecting pygad\n",
            "  Downloading pygad-2.16.3-py3-none-any.whl (53 kB)\n",
            "\u001b[?25l\r\u001b[K     |██████▏                         | 10 kB 15.3 MB/s eta 0:00:01\r\u001b[K     |████████████▎                   | 20 kB 10.2 MB/s eta 0:00:01\r\u001b[K     |██████████████████▍             | 30 kB 8.7 MB/s eta 0:00:01\r\u001b[K     |████████████████████████▌       | 40 kB 3.7 MB/s eta 0:00:01\r\u001b[K     |██████████████████████████████▋ | 51 kB 4.1 MB/s eta 0:00:01\r\u001b[K     |████████████████████████████████| 53 kB 1.3 MB/s \n",
            "\u001b[?25hRequirement already satisfied: numpy in /usr/local/lib/python3.7/dist-packages (from pygad) (1.21.6)\n",
            "Requirement already satisfied: matplotlib in /usr/local/lib/python3.7/dist-packages (from pygad) (3.2.2)\n",
            "Requirement already satisfied: pyparsing!=2.0.4,!=2.1.2,!=2.1.6,>=2.0.1 in /usr/local/lib/python3.7/dist-packages (from matplotlib->pygad) (3.0.8)\n",
            "Requirement already satisfied: cycler>=0.10 in /usr/local/lib/python3.7/dist-packages (from matplotlib->pygad) (0.11.0)\n",
            "Requirement already satisfied: python-dateutil>=2.1 in /usr/local/lib/python3.7/dist-packages (from matplotlib->pygad) (2.8.2)\n",
            "Requirement already satisfied: kiwisolver>=1.0.1 in /usr/local/lib/python3.7/dist-packages (from matplotlib->pygad) (1.4.2)\n",
            "Requirement already satisfied: typing-extensions in /usr/local/lib/python3.7/dist-packages (from kiwisolver>=1.0.1->matplotlib->pygad) (4.2.0)\n",
            "Requirement already satisfied: six>=1.5 in /usr/local/lib/python3.7/dist-packages (from python-dateutil>=2.1->matplotlib->pygad) (1.15.0)\n",
            "Installing collected packages: pygad\n",
            "Successfully installed pygad-2.16.3\n"
          ]
        }
      ]
    },
    {
      "cell_type": "markdown",
      "source": [
        "### Aprendizado Regressivo com Keras"
      ],
      "metadata": {
        "id": "zjmoni_NeoY_"
      }
    },
    {
      "cell_type": "code",
      "source": [
        "import keras\n",
        "import pygad.kerasga\n",
        "import numpy\n",
        "import pygad\n",
        "\n",
        "# função de avaliação\n",
        "def fitness_func(solution, sol_idx):\n",
        "    global data_inputs, data_outputs, keras_ga, model\n",
        "    # pesos dos neurônios extraídos do indivíduo\n",
        "    model_weights_matrix = pygad.kerasga.model_weights_as_matrix(model=model, weights_vector=solution)\n",
        "    # inserindo pesos no modelo\n",
        "    model.set_weights(weights=model_weights_matrix)\n",
        "    # previsão do modelo\n",
        "    predictions = model.predict(data_inputs)\n",
        "    # erro da previsão em relação ao tutor\n",
        "    mae = keras.losses.MeanAbsoluteError()\n",
        "    abs_error = mae(data_outputs, predictions).numpy() + 0.00000001\n",
        "    # avaliação\n",
        "    solution_fitness = 1.0 / abs_error\n",
        "    return solution_fitness\n",
        "\n",
        "# impressão de geração\n",
        "def callback_generation(ga_instance):\n",
        "  generation=ga_instance.generations_completed\n",
        "  bestFit=ga_instance.best_solution()[1]\n",
        "  print(f'Geração {generation} Melhor nota: {bestFit}')\n",
        "\n",
        "# modelo da rede \n",
        "input_layer  = keras.layers.Input(3)\n",
        "dense_layer1 = keras.layers.Dense(5, activation=\"relu\")(input_layer)\n",
        "output_layer = keras.layers.Dense(1, activation=\"linear\")(dense_layer1)\n",
        "model = keras.Model(inputs=input_layer, outputs=output_layer)\n",
        "\n",
        "# pesos dos neurônios do modelo\n",
        "weights_vector = pygad.kerasga.model_weights_as_vector(model=model)\n",
        "\n",
        "# problema\n",
        "keras_ga = pygad.kerasga.KerasGA(model=model, num_solutions=10)\n",
        "\n",
        "# Atributos de entrada\n",
        "data_inputs = numpy.array([[0.02, 0.1, 0.15],\n",
        "                           [0.7, 0.6, 0.8],\n",
        "                           [1.5, 1.2, 1.7],\n",
        "                           [3.2, 2.9, 3.1]])\n",
        "\n",
        "# tutor regressivo\n",
        "data_outputs = numpy.array([[0.1],\n",
        "                            [0.6],\n",
        "                            [1.3],\n",
        "                            [2.5]])\n",
        "\n",
        "num_generations = 250\n",
        "num_parents_mating = 5\n",
        "initial_population = keras_ga.population_weights\n",
        "\n",
        "# otimização\n",
        "ga_instance = pygad.GA(num_generations=num_generations, \n",
        "                       num_parents_mating=num_parents_mating, \n",
        "                       initial_population=initial_population,\n",
        "                       fitness_func=fitness_func,\n",
        "                       on_generation=callback_generation)\n",
        "ga_instance.run()\n",
        "\n",
        "# resultados\n",
        "ga_instance.plot_fitness(title=\"Treinamento Regressivo\", linewidth=4)\n",
        "\n",
        "# Returning the details of the best solution.\n",
        "solution, solution_fitness, solution_idx = ga_instance.best_solution()\n",
        "print(\"Melhor Solução = {solution_fitness}\".format(solution_fitness=solution_fitness))\n",
        "\n",
        "# Fetch the parameters of the best solution.\n",
        "best_solution_weights = pygad.kerasga.model_weights_as_matrix(model=model,\n",
        "                                                              weights_vector=solution)\n",
        "model.set_weights(best_solution_weights)\n",
        "predictions = model.predict(data_inputs)\n",
        "print(\"Predição: \\n\", predictions)\n",
        "\n",
        "mae = keras.losses.MeanAbsoluteError()\n",
        "abs_error = mae(data_outputs, predictions).numpy()\n",
        "print(\"MAE: \", abs_error)"
      ],
      "metadata": {
        "colab": {
          "base_uri": "https://localhost:8080/",
          "height": 1000
        },
        "id": "wb0htSX8ehAw",
        "outputId": "57a4efc7-d357-4f69-e42d-3d8686ea6a7e"
      },
      "execution_count": 20,
      "outputs": [
        {
          "output_type": "stream",
          "name": "stdout",
          "text": [
            "Geração 1 Melhor nota: 7.924167892981052\n",
            "Geração 2 Melhor nota: 7.924167892981052\n",
            "Geração 3 Melhor nota: 7.924167892981052\n",
            "Geração 4 Melhor nota: 7.924167892981052\n",
            "Geração 5 Melhor nota: 7.924167892981052\n",
            "Geração 6 Melhor nota: 7.924167892981052\n",
            "Geração 7 Melhor nota: 8.433403953090377\n",
            "Geração 8 Melhor nota: 14.354322394681796\n",
            "Geração 9 Melhor nota: 14.354322394681796\n",
            "Geração 10 Melhor nota: 14.354322394681796\n",
            "Geração 11 Melhor nota: 65.0152402374109\n",
            "Geração 12 Melhor nota: 65.0152402374109\n",
            "Geração 13 Melhor nota: 65.0152402374109\n",
            "Geração 14 Melhor nota: 65.0152402374109\n",
            "Geração 15 Melhor nota: 65.0152402374109\n",
            "Geração 16 Melhor nota: 65.0152402374109\n",
            "Geração 17 Melhor nota: 65.0152402374109\n",
            "Geração 18 Melhor nota: 65.0152402374109\n",
            "Geração 19 Melhor nota: 65.0152402374109\n",
            "Geração 20 Melhor nota: 65.0152402374109\n",
            "Geração 21 Melhor nota: 66.03824886577497\n",
            "Geração 22 Melhor nota: 66.03824886577497\n",
            "Geração 23 Melhor nota: 66.03824886577497\n",
            "Geração 24 Melhor nota: 66.03824886577497\n",
            "Geração 25 Melhor nota: 66.03824886577497\n",
            "Geração 26 Melhor nota: 66.03824886577497\n",
            "Geração 27 Melhor nota: 66.03824886577497\n",
            "Geração 28 Melhor nota: 66.03824886577497\n",
            "Geração 29 Melhor nota: 66.03824886577497\n",
            "Geração 30 Melhor nota: 66.03824886577497\n",
            "Geração 31 Melhor nota: 66.03824886577497\n",
            "Geração 32 Melhor nota: 66.03824886577497\n",
            "Geração 33 Melhor nota: 66.03824886577497\n",
            "Geração 34 Melhor nota: 66.03824886577497\n",
            "Geração 35 Melhor nota: 66.03824886577497\n",
            "Geração 36 Melhor nota: 66.03824886577497\n",
            "Geração 37 Melhor nota: 66.03824886577497\n",
            "Geração 38 Melhor nota: 66.03824886577497\n",
            "Geração 39 Melhor nota: 66.03824886577497\n",
            "Geração 40 Melhor nota: 66.03824886577497\n",
            "Geração 41 Melhor nota: 66.03824886577497\n",
            "Geração 42 Melhor nota: 66.03824886577497\n",
            "Geração 43 Melhor nota: 66.03824886577497\n",
            "Geração 44 Melhor nota: 66.03824886577497\n",
            "Geração 45 Melhor nota: 66.03824886577497\n",
            "Geração 46 Melhor nota: 66.03824886577497\n",
            "Geração 47 Melhor nota: 66.03824886577497\n",
            "Geração 48 Melhor nota: 66.03824886577497\n",
            "Geração 49 Melhor nota: 66.03824886577497\n",
            "Geração 50 Melhor nota: 66.03824886577497\n",
            "Geração 51 Melhor nota: 66.03824886577497\n",
            "Geração 52 Melhor nota: 66.03824886577497\n",
            "Geração 53 Melhor nota: 66.03824886577497\n",
            "Geração 54 Melhor nota: 66.03824886577497\n",
            "Geração 55 Melhor nota: 66.03824886577497\n",
            "Geração 56 Melhor nota: 66.03824886577497\n",
            "Geração 57 Melhor nota: 66.03824886577497\n",
            "Geração 58 Melhor nota: 66.03824886577497\n",
            "Geração 59 Melhor nota: 66.03824886577497\n",
            "Geração 60 Melhor nota: 66.27826176883798\n",
            "Geração 61 Melhor nota: 66.27826176883798\n",
            "Geração 62 Melhor nota: 66.27826176883798\n",
            "Geração 63 Melhor nota: 66.27826176883798\n",
            "Geração 64 Melhor nota: 66.27826176883798\n",
            "Geração 65 Melhor nota: 66.27826176883798\n",
            "Geração 66 Melhor nota: 66.27826176883798\n",
            "Geração 67 Melhor nota: 66.27826176883798\n",
            "Geração 68 Melhor nota: 66.27826176883798\n",
            "Geração 69 Melhor nota: 66.27826176883798\n",
            "Geração 70 Melhor nota: 66.27826176883798\n",
            "Geração 71 Melhor nota: 66.27826176883798\n",
            "Geração 72 Melhor nota: 66.27826176883798\n",
            "Geração 73 Melhor nota: 66.27826176883798\n",
            "Geração 74 Melhor nota: 66.27826176883798\n",
            "Geração 75 Melhor nota: 66.27826176883798\n",
            "Geração 76 Melhor nota: 66.27826176883798\n",
            "Geração 77 Melhor nota: 66.27826176883798\n",
            "Geração 78 Melhor nota: 66.27826176883798\n",
            "Geração 79 Melhor nota: 66.27826176883798\n",
            "Geração 80 Melhor nota: 66.27826176883798\n",
            "Geração 81 Melhor nota: 66.27826176883798\n",
            "Geração 82 Melhor nota: 66.27826176883798\n",
            "Geração 83 Melhor nota: 66.27826176883798\n",
            "Geração 84 Melhor nota: 66.27826176883798\n",
            "Geração 85 Melhor nota: 66.27826176883798\n",
            "Geração 86 Melhor nota: 66.27826176883798\n",
            "Geração 87 Melhor nota: 66.27826176883798\n",
            "Geração 88 Melhor nota: 66.27826176883798\n",
            "Geração 89 Melhor nota: 66.27826176883798\n",
            "Geração 90 Melhor nota: 66.27826176883798\n",
            "Geração 91 Melhor nota: 66.27826176883798\n",
            "Geração 92 Melhor nota: 66.27826176883798\n",
            "Geração 93 Melhor nota: 66.27826176883798\n",
            "Geração 94 Melhor nota: 66.27826176883798\n",
            "Geração 95 Melhor nota: 66.27826176883798\n",
            "Geração 96 Melhor nota: 66.27826176883798\n",
            "Geração 97 Melhor nota: 66.27826176883798\n",
            "Geração 98 Melhor nota: 66.27826176883798\n",
            "Geração 99 Melhor nota: 66.27826176883798\n",
            "Geração 100 Melhor nota: 66.27826176883798\n",
            "Geração 101 Melhor nota: 66.27826176883798\n",
            "Geração 102 Melhor nota: 66.27826176883798\n",
            "Geração 103 Melhor nota: 66.27826176883798\n",
            "Geração 104 Melhor nota: 66.27826176883798\n",
            "Geração 105 Melhor nota: 66.27826176883798\n",
            "Geração 106 Melhor nota: 66.27826176883798\n",
            "Geração 107 Melhor nota: 66.27826176883798\n",
            "Geração 108 Melhor nota: 66.27826176883798\n",
            "Geração 109 Melhor nota: 66.27826176883798\n",
            "Geração 110 Melhor nota: 66.27826176883798\n",
            "Geração 111 Melhor nota: 66.27826176883798\n",
            "Geração 112 Melhor nota: 66.27826176883798\n",
            "Geração 113 Melhor nota: 66.27826176883798\n",
            "Geração 114 Melhor nota: 66.27826176883798\n",
            "Geração 115 Melhor nota: 66.27826176883798\n",
            "Geração 116 Melhor nota: 66.27826176883798\n",
            "Geração 117 Melhor nota: 66.27826176883798\n",
            "Geração 118 Melhor nota: 66.27826176883798\n",
            "Geração 119 Melhor nota: 66.27826176883798\n",
            "Geração 120 Melhor nota: 66.27826176883798\n",
            "Geração 121 Melhor nota: 66.27826176883798\n",
            "Geração 122 Melhor nota: 69.48813452347\n",
            "Geração 123 Melhor nota: 69.48813452347\n",
            "Geração 124 Melhor nota: 69.48813452347\n",
            "Geração 125 Melhor nota: 69.48813452347\n",
            "Geração 126 Melhor nota: 71.27429062642719\n",
            "Geração 127 Melhor nota: 71.27429062642719\n",
            "Geração 128 Melhor nota: 71.27429062642719\n",
            "Geração 129 Melhor nota: 71.27429062642719\n",
            "Geração 130 Melhor nota: 71.27429062642719\n",
            "Geração 131 Melhor nota: 71.27429062642719\n",
            "Geração 132 Melhor nota: 71.27429062642719\n",
            "Geração 133 Melhor nota: 71.27429062642719\n",
            "Geração 134 Melhor nota: 71.27429062642719\n",
            "Geração 135 Melhor nota: 71.27429062642719\n",
            "Geração 136 Melhor nota: 71.27429062642719\n",
            "Geração 137 Melhor nota: 71.27429062642719\n",
            "Geração 138 Melhor nota: 71.27429062642719\n",
            "Geração 139 Melhor nota: 72.82478715653727\n",
            "Geração 140 Melhor nota: 72.82478715653727\n",
            "Geração 141 Melhor nota: 72.82478715653727\n",
            "Geração 142 Melhor nota: 74.85003867514355\n",
            "Geração 143 Melhor nota: 74.85003867514355\n",
            "Geração 144 Melhor nota: 74.85003867514355\n",
            "Geração 145 Melhor nota: 74.85003867514355\n",
            "Geração 146 Melhor nota: 74.85003867514355\n",
            "Geração 147 Melhor nota: 74.85003867514355\n",
            "Geração 148 Melhor nota: 74.85003867514355\n",
            "Geração 149 Melhor nota: 74.85003867514355\n",
            "Geração 150 Melhor nota: 74.85003867514355\n",
            "Geração 151 Melhor nota: 74.85003867514355\n",
            "Geração 152 Melhor nota: 74.85003867514355\n",
            "Geração 153 Melhor nota: 74.85003867514355\n",
            "Geração 154 Melhor nota: 74.85003867514355\n",
            "Geração 155 Melhor nota: 74.85003867514355\n",
            "Geração 156 Melhor nota: 74.85003867514355\n",
            "Geração 157 Melhor nota: 74.85003867514355\n",
            "Geração 158 Melhor nota: 74.85003867514355\n",
            "Geração 159 Melhor nota: 74.85003867514355\n",
            "Geração 160 Melhor nota: 74.85003867514355\n",
            "Geração 161 Melhor nota: 74.85003867514355\n",
            "Geração 162 Melhor nota: 74.85003867514355\n",
            "Geração 163 Melhor nota: 74.85003867514355\n",
            "Geração 164 Melhor nota: 74.85003867514355\n",
            "Geração 165 Melhor nota: 74.85003867514355\n",
            "Geração 166 Melhor nota: 74.85003867514355\n",
            "Geração 167 Melhor nota: 74.85003867514355\n",
            "Geração 168 Melhor nota: 74.85003867514355\n",
            "Geração 169 Melhor nota: 74.85003867514355\n",
            "Geração 170 Melhor nota: 74.85003867514355\n",
            "Geração 171 Melhor nota: 74.85003867514355\n",
            "Geração 172 Melhor nota: 74.85003867514355\n",
            "Geração 173 Melhor nota: 74.85003867514355\n",
            "Geração 174 Melhor nota: 74.85003867514355\n",
            "Geração 175 Melhor nota: 74.85003867514355\n",
            "Geração 176 Melhor nota: 74.85003867514355\n",
            "Geração 177 Melhor nota: 74.85003867514355\n",
            "Geração 178 Melhor nota: 74.85003867514355\n",
            "Geração 179 Melhor nota: 81.96699733795418\n",
            "Geração 180 Melhor nota: 81.96699733795418\n",
            "Geração 181 Melhor nota: 81.96699733795418\n",
            "Geração 182 Melhor nota: 81.96699733795418\n",
            "Geração 183 Melhor nota: 81.96699733795418\n",
            "Geração 184 Melhor nota: 81.96699733795418\n",
            "Geração 185 Melhor nota: 81.96699733795418\n",
            "Geração 186 Melhor nota: 81.96699733795418\n",
            "Geração 187 Melhor nota: 81.96699733795418\n",
            "Geração 188 Melhor nota: 81.96699733795418\n",
            "Geração 189 Melhor nota: 81.96699733795418\n",
            "Geração 190 Melhor nota: 81.96699733795418\n",
            "Geração 191 Melhor nota: 81.96699733795418\n",
            "Geração 192 Melhor nota: 81.96699733795418\n",
            "Geração 193 Melhor nota: 81.96699733795418\n",
            "Geração 194 Melhor nota: 81.96699733795418\n",
            "Geração 195 Melhor nota: 82.53619576331472\n",
            "Geração 196 Melhor nota: 82.53619576331472\n",
            "Geração 197 Melhor nota: 82.53619576331472\n",
            "Geração 198 Melhor nota: 82.53619576331472\n",
            "Geração 199 Melhor nota: 82.53619576331472\n",
            "Geração 200 Melhor nota: 82.53619576331472\n",
            "Geração 201 Melhor nota: 82.53619576331472\n",
            "Geração 202 Melhor nota: 82.53619576331472\n",
            "Geração 203 Melhor nota: 82.53619576331472\n",
            "Geração 204 Melhor nota: 82.53619576331472\n",
            "Geração 205 Melhor nota: 82.53619576331472\n",
            "Geração 206 Melhor nota: 82.53619576331472\n",
            "Geração 207 Melhor nota: 82.53619576331472\n",
            "Geração 208 Melhor nota: 82.53619576331472\n",
            "Geração 209 Melhor nota: 82.53619576331472\n",
            "Geração 210 Melhor nota: 82.53619576331472\n",
            "Geração 211 Melhor nota: 82.53619576331472\n",
            "Geração 212 Melhor nota: 82.53619576331472\n",
            "Geração 213 Melhor nota: 82.53619576331472\n",
            "Geração 214 Melhor nota: 82.53619576331472\n",
            "Geração 215 Melhor nota: 82.53619576331472\n",
            "Geração 216 Melhor nota: 82.53619576331472\n",
            "Geração 217 Melhor nota: 82.53619576331472\n",
            "Geração 218 Melhor nota: 112.91509862723069\n",
            "Geração 219 Melhor nota: 112.91509862723069\n",
            "Geração 220 Melhor nota: 112.91509862723069\n",
            "Geração 221 Melhor nota: 112.91509862723069\n",
            "Geração 222 Melhor nota: 112.91509862723069\n",
            "Geração 223 Melhor nota: 112.91509862723069\n",
            "Geração 224 Melhor nota: 112.91509862723069\n",
            "Geração 225 Melhor nota: 112.91509862723069\n",
            "Geração 226 Melhor nota: 112.91509862723069\n",
            "Geração 227 Melhor nota: 112.91509862723069\n",
            "Geração 228 Melhor nota: 112.91509862723069\n",
            "Geração 229 Melhor nota: 112.91509862723069\n",
            "Geração 230 Melhor nota: 112.91509862723069\n",
            "Geração 231 Melhor nota: 112.91509862723069\n",
            "Geração 232 Melhor nota: 112.91509862723069\n",
            "Geração 233 Melhor nota: 112.91509862723069\n",
            "Geração 234 Melhor nota: 112.91509862723069\n",
            "Geração 235 Melhor nota: 112.91509862723069\n",
            "Geração 236 Melhor nota: 112.91509862723069\n",
            "Geração 237 Melhor nota: 112.91509862723069\n",
            "Geração 238 Melhor nota: 112.91509862723069\n",
            "Geração 239 Melhor nota: 112.91509862723069\n",
            "Geração 240 Melhor nota: 112.91509862723069\n",
            "Geração 241 Melhor nota: 112.91509862723069\n",
            "Geração 242 Melhor nota: 112.91509862723069\n",
            "Geração 243 Melhor nota: 112.91509862723069\n",
            "Geração 244 Melhor nota: 112.91509862723069\n",
            "Geração 245 Melhor nota: 112.91509862723069\n",
            "Geração 246 Melhor nota: 112.91509862723069\n",
            "Geração 247 Melhor nota: 112.91509862723069\n",
            "Geração 248 Melhor nota: 112.91509862723069\n",
            "Geração 249 Melhor nota: 112.91509862723069\n",
            "Geração 250 Melhor nota: 112.91509862723069\n"
          ]
        },
        {
          "output_type": "display_data",
          "data": {
            "text/plain": [
              "<Figure size 432x288 with 1 Axes>"
            ],
            "image/png": "[encoded data removed]"
          },
          "metadata": {
            "needs_background": "light"
          }
        },
        {
          "output_type": "stream",
          "name": "stdout",
          "text": [
            "Melhor Solução = 112.91509862723069\n",
            "Predição: \n",
            " [[0.10112782]\n",
            " [0.62700784]\n",
            " [1.2991428 ]\n",
            " [2.506432  ]]\n",
            "MAE:  0.008856202\n"
          ]
        }
      ]
    },
    {
      "cell_type": "markdown",
      "source": [
        "# Atividade "
      ],
      "metadata": {
        "id": "PNl85r4be_QX"
      }
    },
    {
      "cell_type": "markdown",
      "source": [
        "## Enunciado\n",
        "\n",
        "Dado seu número de matrícula, realize a otimização dos problemas selecionados com as técnicas sorteadas.\n",
        "\n",
        "Use o código do problema alocação ótima como modelo."
      ],
      "metadata": {
        "id": "03MxTHE-g2Su"
      }
    },
    {
      "cell_type": "code",
      "source": [
        "import random\n",
        "\n",
        "Matricula = 202200000 #@param {type:\"integer\"}\n",
        "random.seed(Matricula)\n",
        "\n",
        "# https://pymoo.org/problems/test_problems.html\n",
        "problemas = ['Ackley','Griewank','Rastrigin','Rosenbrock','Zakharov']\n",
        "# https://pymoo.org/algorithms/list.html\n",
        "algortimos = ['ga','de','brkga','cmaes','sres','isres','nsga2','rnsga2']\n",
        "\n",
        "random.shuffle(problemas)\n",
        "random.shuffle(algortimos)\n",
        "\n",
        "print('Problemas:', problemas[:2])\n",
        "print('Otimizações:', algortimos[:3])"
      ],
      "metadata": {
        "colab": {
          "base_uri": "https://localhost:8080/"
        },
        "id": "Mk6DoyGgnm0h",
        "outputId": "c2e036e0-2bda-4282-d96e-ebc959a671d1"
      },
      "execution_count": 23,
      "outputs": [
        {
          "output_type": "stream",
          "name": "stdout",
          "text": [
            "Problemas: ['Zakharov', 'Rosenbrock']\n",
            "Otimizações: ['sres', 'isres', 'rnsga2']\n"
          ]
        }
      ]
    },
    {
      "cell_type": "markdown",
      "source": [
        "## Solução"
      ],
      "metadata": {
        "id": "XZnR2smhpr4W"
      }
    },
    {
      "cell_type": "code",
      "source": [
        ""
      ],
      "metadata": {
        "id": "7HUbPA6Epre_"
      },
      "execution_count": null,
      "outputs": []
    }
  ]
}
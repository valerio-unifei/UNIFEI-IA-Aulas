{
  "nbformat": 4,
  "nbformat_minor": 0,
  "metadata": {
    "colab": {
      "name": "Otimização Evolutiva - Deep Learning.ipynb",
      "provenance": [],
      "authorship_tag": "ABX9TyOv4KuM1NjBRaypqfVFnBup",
      "include_colab_link": true
    },
    "kernelspec": {
      "name": "python3",
      "display_name": "Python 3"
    },
    "language_info": {
      "name": "python"
    }
  },
  "cells": [
    {
      "cell_type": "markdown",
      "metadata": {
        "id": "view-in-github",
        "colab_type": "text"
      },
      "source": [
        "<a href=\"https://colab.research.google.com/github/valerio-unifei/UNIFEI-IA-Aulas/blob/main/Otimiza%C3%A7%C3%A3o_Evolutiva_Deep_Learning.ipynb\" target=\"_parent\"><img src=\"https://colab.research.google.com/assets/colab-badge.svg\" alt=\"Open In Colab\"/></a>"
      ]
    },
    {
      "cell_type": "markdown",
      "source": [
        "# Otimização Evolutiva"
      ],
      "metadata": {
        "id": "zwmiNx_M1dff"
      }
    },
    {
      "cell_type": "markdown",
      "source": [
        "https://github.com/anyoptimization/pymoo"
      ],
      "metadata": {
        "id": "H42zfUEK1f3z"
      }
    },
    {
      "cell_type": "code",
      "source": [
        "!pip install -U pymoo"
      ],
      "metadata": {
        "colab": {
          "base_uri": "https://localhost:8080/"
        },
        "id": "WZLD86Cb1dFU",
        "outputId": "cd5bee2a-3473-4d7e-f0e0-3252d927cee9"
      },
      "execution_count": 1,
      "outputs": [
        {
          "output_type": "stream",
          "name": "stdout",
          "text": [
            "Collecting pymoo\n",
            "  Downloading pymoo-0.5.0-cp37-cp37m-manylinux_2_5_x86_64.manylinux1_x86_64.manylinux_2_12_x86_64.manylinux2010_x86_64.whl (2.5 MB)\n",
            "\u001b[K     |████████████████████████████████| 2.5 MB 5.1 MB/s \n",
            "\u001b[?25hRequirement already satisfied: autograd>=1.3 in /usr/local/lib/python3.7/dist-packages (from pymoo) (1.4)\n",
            "Requirement already satisfied: scipy>=1.1 in /usr/local/lib/python3.7/dist-packages (from pymoo) (1.4.1)\n",
            "Collecting cma==2.7\n",
            "  Downloading cma-2.7.0-py2.py3-none-any.whl (239 kB)\n",
            "\u001b[K     |████████████████████████████████| 239 kB 67.3 MB/s \n",
            "\u001b[?25hRequirement already satisfied: matplotlib>=3 in /usr/local/lib/python3.7/dist-packages (from pymoo) (3.2.2)\n",
            "Requirement already satisfied: numpy>=1.15 in /usr/local/lib/python3.7/dist-packages (from pymoo) (1.21.6)\n",
            "Requirement already satisfied: future>=0.15.2 in /usr/local/lib/python3.7/dist-packages (from autograd>=1.3->pymoo) (0.16.0)\n",
            "Requirement already satisfied: kiwisolver>=1.0.1 in /usr/local/lib/python3.7/dist-packages (from matplotlib>=3->pymoo) (1.4.2)\n",
            "Requirement already satisfied: cycler>=0.10 in /usr/local/lib/python3.7/dist-packages (from matplotlib>=3->pymoo) (0.11.0)\n",
            "Requirement already satisfied: python-dateutil>=2.1 in /usr/local/lib/python3.7/dist-packages (from matplotlib>=3->pymoo) (2.8.2)\n",
            "Requirement already satisfied: pyparsing!=2.0.4,!=2.1.2,!=2.1.6,>=2.0.1 in /usr/local/lib/python3.7/dist-packages (from matplotlib>=3->pymoo) (3.0.8)\n",
            "Requirement already satisfied: typing-extensions in /usr/local/lib/python3.7/dist-packages (from kiwisolver>=1.0.1->matplotlib>=3->pymoo) (4.2.0)\n",
            "Requirement already satisfied: six>=1.5 in /usr/local/lib/python3.7/dist-packages (from python-dateutil>=2.1->matplotlib>=3->pymoo) (1.15.0)\n",
            "Installing collected packages: cma, pymoo\n",
            "Successfully installed cma-2.7.0 pymoo-0.5.0\n"
          ]
        }
      ]
    },
    {
      "cell_type": "markdown",
      "source": [
        "## Executando Problema Teste"
      ],
      "metadata": {
        "id": "uW5_ua6V3zZH"
      }
    },
    {
      "cell_type": "markdown",
      "source": [
        "* Problema = zdt1\n",
        "* Algoritmo de otimização = NSGA2\n",
        "* População = 100\n",
        "* Gerações = 200"
      ],
      "metadata": {
        "id": "7hM9_gfK3-Qo"
      }
    },
    {
      "cell_type": "code",
      "execution_count": 5,
      "metadata": {
        "colab": {
          "base_uri": "https://localhost:8080/",
          "height": 391
        },
        "id": "q8WecNOM1Z2P",
        "outputId": "e85edcd3-d346-48d1-f0bc-d0956cad33b0"
      },
      "outputs": [
        {
          "output_type": "display_data",
          "data": {
            "text/plain": [
              "<Figure size 576x432 with 1 Axes>"
            ],
            "image/png": "[encoded data removed]"
          },
          "metadata": {
            "needs_background": "light"
          }
        }
      ],
      "source": [
        "from pymoo import algorithms\n",
        "from pymoo.factory import get_problem\n",
        "from pymoo.optimize import minimize\n",
        "from pymoo.visualization.scatter import Scatter\n",
        "\n",
        "# https://pymoo.org/problems/test_problems.html\n",
        "problem = get_problem(\"zdt1\")\n",
        "\n",
        "# https://pymoo.org/algorithms/list.html\n",
        "algorithm = algorithms.moo.nsga2.NSGA2(pop_size=100)\n",
        "\n",
        "res = minimize(problem,\n",
        "               algorithm,\n",
        "               ('n_gen', 200),\n",
        "               seed=42,\n",
        "               verbose=False)\n",
        "\n",
        "plot = Scatter()\n",
        "plot.add(problem.pareto_front(), plot_type=\"line\", color=\"black\", alpha=0.7)\n",
        "plot.add(res.F, color=\"red\")\n",
        "_ = plot.show()"
      ]
    },
    {
      "cell_type": "markdown",
      "source": [
        "## Customizando Problema para Solucionar"
      ],
      "metadata": {
        "id": "rpXn3gHF11bR"
      }
    },
    {
      "cell_type": "code",
      "source": [
        "import numpy as np\n",
        "from pymoo.core.problem import ElementwiseProblem\n",
        "from pymoo.algorithms.moo.nsga2 import NSGA2\n",
        "from pymoo.factory import get_sampling, get_crossover, get_mutation\n",
        "from pymoo.factory import get_termination\n",
        "from pymoo.optimize import minimize\n",
        "\n",
        "class MyProblem(ElementwiseProblem):\n",
        "\n",
        "    def __init__(self):\n",
        "        super().__init__(n_var=2,\n",
        "                         n_obj=2,\n",
        "                         n_constr=2,\n",
        "                         xl=np.array([-2,-2]),\n",
        "                         xu=np.array([2,2]))\n",
        "\n",
        "    def _evaluate(self, x, out, *args, **kwargs):\n",
        "        f1 = 100 * (x[0]**2 + x[1]**2)\n",
        "        f2 = (x[0]-1)**2 + x[1]**2\n",
        "\n",
        "        g1 = 2*(x[0]-0.1) * (x[0]-0.9) / 0.18\n",
        "        g2 = - 20*(x[0]-0.4) * (x[0]-0.6) / 4.8\n",
        "\n",
        "        out[\"F\"] = [f1, f2]\n",
        "        out[\"G\"] = [g1, g2]\n",
        "\n",
        "\n",
        "problem = MyProblem()\n",
        "\n",
        "algorithm = NSGA2(\n",
        "    pop_size=40,\n",
        "    n_offsprings=10,\n",
        "    sampling=get_sampling(\"real_random\"),\n",
        "    crossover=get_crossover(\"real_sbx\", prob=0.9, eta=15),\n",
        "    mutation=get_mutation(\"real_pm\", eta=20),\n",
        "    eliminate_duplicates=True\n",
        ")\n",
        "\n",
        "termination = get_termination(\"n_gen\", 200)\n",
        "\n",
        "res = minimize(problem,\n",
        "               algorithm,\n",
        "               termination,\n",
        "               seed=42,\n",
        "               save_history=False,\n",
        "               verbose=False)\n",
        "\n",
        "plot = Scatter()\n",
        "plot.add(res.F, color=\"red\")\n",
        "_ = plot.show()"
      ],
      "metadata": {
        "colab": {
          "base_uri": "https://localhost:8080/",
          "height": 391
        },
        "id": "QcLWFkXC11Gg",
        "outputId": "4fd26b1e-da4d-4542-8e86-08ae30b2c73e"
      },
      "execution_count": 11,
      "outputs": [
        {
          "output_type": "display_data",
          "data": {
            "text/plain": [
              "<Figure size 576x432 with 1 Axes>"
            ],
            "image/png": "[encoded data removed]"
          },
          "metadata": {
            "needs_background": "light"
          }
        }
      ]
    },
    {
      "cell_type": "markdown",
      "source": [
        "# Otimização Evolutiva em Deep Learning"
      ],
      "metadata": {
        "id": "uhrg_bLt7j3h"
      }
    },
    {
      "cell_type": "markdown",
      "source": [
        "https://pygad.readthedocs.io/en/latest/"
      ],
      "metadata": {
        "id": "oOaKF_p57oIF"
      }
    }
  ]
}
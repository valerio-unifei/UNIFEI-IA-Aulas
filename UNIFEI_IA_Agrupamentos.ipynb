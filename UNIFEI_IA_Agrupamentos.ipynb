{
  "nbformat": 4,
  "nbformat_minor": 0,
  "metadata": {
    "colab": {
      "name": "UNIFEI IA Agrupamentos.ipynb",
      "provenance": [],
      "collapsed_sections": [],
      "authorship_tag": "ABX9TyM49T2X50ijCdMadaH6y9iY",
      "include_colab_link": true
    },
    "kernelspec": {
      "name": "python3",
      "display_name": "Python 3"
    },
    "language_info": {
      "name": "python"
    }
  },
  "cells": [
    {
      "cell_type": "markdown",
      "metadata": {
        "id": "view-in-github",
        "colab_type": "text"
      },
      "source": [
        "<a href=\"https://colab.research.google.com/github/valerio-unifei/UNIFEI-IA-Aulas/blob/main/UNIFEI_IA_Agrupamentos.ipynb\" target=\"_parent\"><img src=\"https://colab.research.google.com/assets/colab-badge.svg\" alt=\"Open In Colab\"/></a>"
      ]
    },
    {
      "cell_type": "markdown",
      "metadata": {
        "id": "_i5ksVxRoTiv"
      },
      "source": [
        "# Agrupamentos (*Clustering*)"
      ]
    },
    {
      "cell_type": "markdown",
      "metadata": {
        "id": "ufxQhborL_Hp"
      },
      "source": [
        "## Dataset"
      ]
    },
    {
      "cell_type": "code",
      "metadata": {
        "id": "HeGwV0ILoNO5"
      },
      "source": [
        "from sklearn import datasets\n",
        "\n",
        "# vamos usar o dataset Flores IRIS que tem tutor\n",
        "# mas o tutor não vai ser usado no agrupamento\n",
        "iris = datasets.load_iris()\n",
        "print('casos =',iris.data.shape[0],', atributos =',iris.data.shape[1])"
      ],
      "execution_count": null,
      "outputs": []
    },
    {
      "cell_type": "markdown",
      "metadata": {
        "id": "p3KwELsAocE1"
      },
      "source": [
        "## Metodologias de Agrupamento"
      ]
    },
    {
      "cell_type": "code",
      "metadata": {
        "id": "VFXOb5M-ogTh"
      },
      "source": [
        "import time\n",
        "from sklearn import cluster, mixture\n",
        "\n",
        "import numpy as np\n",
        "import matplotlib.pyplot as plt\n",
        "from itertools import cycle, islice\n",
        "\n",
        "plt.figure(figsize=(12, 12))\n",
        "\n",
        "#https://scikit-learn.org/stable/modules/classes.html#module-sklearn.cluster\n",
        "agrupamentos = (\n",
        "                (cluster.MiniBatchKMeans(n_clusters=3,random_state=42),'K-Means'),\n",
        "                (cluster.AgglomerativeClustering(n_clusters=3, linkage='ward'),'Ward'),\n",
        "                (cluster.SpectralClustering(n_clusters=3, eigen_solver='arpack', affinity='nearest_neighbors',random_state=42),'Spectral'),\n",
        "                (cluster.DBSCAN(eps=1.0),'DBSCAN'),\n",
        "                (cluster.OPTICS(),'OPTICS'),\n",
        "                (cluster.AffinityPropagation(),'Affinity'),\n",
        "                (cluster.Birch(n_clusters=3),'Birch'),\n",
        "                (mixture.GaussianMixture(n_components=3,covariance_type='full',random_state=42),'GaussianMix'),\n",
        "               )\n",
        "\n",
        "plot_num = 1\n",
        "\n",
        "for metodo, nome in agrupamentos:\n",
        "\n",
        "  t0 = time.time()\n",
        "  metodo.fit(iris.data)\n",
        "  tempo = time.time() - t0\n",
        "\n",
        "  if hasattr(metodo, 'labels_'):\n",
        "    y_pred = metodo.labels_.astype(int)\n",
        "  else:\n",
        "    y_pred = metodo.predict(iris.data)\n",
        "  \n",
        "  colunas = iris.data.shape[1]\n",
        "\n",
        "  # Plotando grupos pela combinação de 2 colunas do dataset\n",
        "  for c in range(1,colunas):\n",
        "    plt.subplot(len(agrupamentos),colunas-1,plot_num)\n",
        "\n",
        "    if c == 1:\n",
        "      plt.title(nome, size=18)\n",
        "\n",
        "    colors = np.array(list(islice(cycle(['#377eb8','#ff7f00','#4daf4a','#f781bf', '#a65628', '#984ea3','#999999', '#e41a1c', '#dede00']),int(max(y_pred) + 1))))\n",
        "    colors = np.append(colors, ['#000000'])\n",
        "\n",
        "    # plotando pelas colunas [c-1,c]\n",
        "    plt.scatter(iris.data[:, c-1], iris.data[:, c], s=10, color=colors[y_pred])\n",
        "\n",
        "    plt.xticks(())\n",
        "    plt.yticks(())\n",
        "\n",
        "    if c == (colunas -1):\n",
        "      plt.text(.99, .01, ('%.3fs' % tempo).lstrip('0'), transform=plt.gca().transAxes, size=15, horizontalalignment='right')\n",
        "      \n",
        "    plot_num += 1\n",
        "\n",
        "plt.show()"
      ],
      "execution_count": null,
      "outputs": []
    },
    {
      "cell_type": "markdown",
      "metadata": {
        "id": "0dSn5KTTognh"
      },
      "source": [
        "## Métricas de Avaliação"
      ]
    },
    {
      "cell_type": "code",
      "metadata": {
        "id": "ggbRG0_mMB7r"
      },
      "source": [
        "from sklearn import metrics\n",
        "import pandas as pd\n",
        "\n",
        "tabela = []\n",
        "for metodo, nome in agrupamentos:\n",
        "\n",
        "  if hasattr(metodo, 'labels_'):\n",
        "    y_pred = metodo.labels_.astype(int)\n",
        "  else:\n",
        "    y_pred = metodo.predict(iris.data)\n",
        "\n",
        "  valores = []\n",
        "  \n",
        "  valores.append(set(y_pred))\n",
        "\n",
        "  #https://scikit-learn.org/stable/modules/classes.html#clustering-metrics\n",
        "  valores.append(metrics.adjusted_rand_score(y_pred,iris.target))\n",
        "  valores.append(metrics.adjusted_mutual_info_score(y_pred,iris.target))\n",
        "  valores.append(metrics.normalized_mutual_info_score(y_pred,iris.target))\n",
        "  valores.append(metrics.fowlkes_mallows_score(y_pred,iris.target))\n",
        "\n",
        "  valores.append(metrics.silhouette_score(iris.data, y_pred, metric='euclidean'))\n",
        "  valores.append(metrics.calinski_harabasz_score(iris.data, y_pred))\n",
        "  valores.append(metrics.davies_bouldin_score(iris.data, y_pred))\n",
        "\n",
        "  tabela.append(valores)\n",
        "\n",
        "metricas = ['Grupos','Adjusted Rand','Ad.Mutual','No.Mutual','Fowlkes Mallows','Silhouette','Calinski Harabasz','Davies Bouldin']\n",
        "metodos = [y for x,y in agrupamentos]\n",
        "\n",
        "pd.DataFrame(data=tabela, index=metodos, columns=metricas)"
      ],
      "execution_count": null,
      "outputs": []
    }
  ]
}
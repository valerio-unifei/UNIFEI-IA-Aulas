{
  "nbformat": 4,
  "nbformat_minor": 0,
  "metadata": {
    "colab": {
      "name": "UNIFEI IA - Trabalho de Otimização Evolutiva.ipynb",
      "provenance": [],
      "authorship_tag": "ABX9TyNkbwv9jvN7tvtcNQuj+UW7",
      "include_colab_link": true
    },
    "kernelspec": {
      "name": "python3",
      "display_name": "Python 3"
    },
    "language_info": {
      "name": "python"
    }
  },
  "cells": [
    {
      "cell_type": "markdown",
      "metadata": {
        "id": "view-in-github",
        "colab_type": "text"
      },
      "source": [
        "<a href=\"https://colab.research.google.com/github/valerio-unifei/UNIFEI-IA-Aulas/blob/main/UNIFEI_IA_Trabalho_de_Otimiza%C3%A7%C3%A3o_Evolutiva.ipynb\" target=\"_parent\"><img src=\"https://colab.research.google.com/assets/colab-badge.svg\" alt=\"Open In Colab\"/></a>"
      ]
    },
    {
      "cell_type": "markdown",
      "metadata": {
        "id": "oKgo-yEyfSwD"
      },
      "source": [
        "# Trabalho de otimização evolutiva"
      ]
    },
    {
      "cell_type": "markdown",
      "metadata": {
        "id": "sTgo6JIRgRDe"
      },
      "source": [
        "## Informações do Trabalho\n",
        "- Prazo de entrega: (ver data no Google Sala de Aula)\n",
        "- Desconto por atraso: redução de 20% da nota total por dia corrido de atraso.\n",
        "- Nota: 0 a 10,0 pontos (100 no Google Sala de aula)\n",
        "- 50% da nota P1"
      ]
    },
    {
      "cell_type": "markdown",
      "metadata": {
        "id": "VHEQG2SKfVh9"
      },
      "source": [
        "## Objetivo"
      ]
    },
    {
      "cell_type": "markdown",
      "metadata": {
        "id": "6tWQqgJM7z-y"
      },
      "source": [
        "Conhecer e empregar as metodologias de otimização evolutiva para ajuste de sistemas e técnicas de inteligência artificial."
      ]
    },
    {
      "cell_type": "markdown",
      "metadata": {
        "id": "fsaNH7bW3bxf"
      },
      "source": [
        "## Proposta"
      ]
    },
    {
      "cell_type": "markdown",
      "metadata": {
        "id": "B2cakeFo3dmK"
      },
      "source": [
        "- Copie este Notebook Python para o [Google Colab](https://colab.research.google.com/);\n",
        "- Na parte de desenvolvimento escreva um código fonte em Python utilizando a biblioteca proposta (veja a documentação no link fornecido);\n",
        "- Com seu número de matrícula serão selecionadas as **otimizações evolutivas** para esta proposta;\n",
        "- Com seu número de matrícula serão selecionadas as **funções objetivas** para esta proposta;\n",
        "  - Verifique os limites de cada uma de suas variáveis de entrada;\n",
        "- Com as otimizações evolutivas implemente a solução para **minimizar** as funções objetivas selecionadas;\n",
        "- Parâmetros de otmização (quando existir na técnica selecionada):\n",
        " - População: 50\n",
        " - Dimensões da busca: 2\n",
        " - Gerações: 800\n",
        " - Precisão: 1e-7\n",
        " - Limites das variáveis: (conforme função objetivo utilizada)\n",
        "- Resultados:\n",
        " - Variáveis/Cromossomos do melhor indivíduo por otimização e função objetivo;\n",
        " - Nota do melhor indivíduo por otimização e função objetivo\n",
        " - Tempo de busca em segundos (usar biblioteca *time*);\n",
        " - [**Preencher este formulário com os resultados!**](https://forms.gle/BJN9UpA6Lp7mVTwh6)"
      ]
    },
    {
      "cell_type": "markdown",
      "metadata": {
        "id": "t8ZKTiL-8fvu"
      },
      "source": [
        "**Forneça sua matrícula abaixo e execute o bloco para selecionar as otimizações e funções objetivo que serão utilizadas no seu trabalho:**"
      ]
    },
    {
      "cell_type": "code",
      "metadata": {
        "id": "3Zz8Uidn8U5X"
      },
      "source": [
        "import random\n",
        "\n",
        "Matricula = 0 #@param {type:\"integer\"}\n",
        "random.seed(Matricula)\n",
        "print('Sua matrícula:',Matricula)\n",
        "\n",
        "tecnicas = ['Algoritmos Genéticos','Evolução Diferencial',\n",
        "            'Enxame de Partículas','Recozimento Simulado',\n",
        "            'Colônia de Formigas','Sistema Imunológico Artificial',\n",
        "            'Enxame de Peixes Artificiais']\n",
        "random.shuffle(tecnicas)\n",
        "print('Otimizações selecionadas:',tecnicas[:3])\n",
        "\n",
        "benchmarks =['ackley','beale','booth','bukin6','crossintray','easom',\n",
        "             'eggholder','goldstein','himmelblau','holdertable','levi',\n",
        "             'matyas','rastrigin','rosenbrock','schaffer2','sphere','threehump']\n",
        "random.shuffle(benchmarks)\n",
        "print('Funções Objetivo selecionadas:',benchmarks[:3])"
      ],
      "execution_count": null,
      "outputs": []
    },
    {
      "cell_type": "markdown",
      "metadata": {
        "id": "OaY7q9YEgRqV"
      },
      "source": [
        "### Biblioteca Proposta"
      ]
    },
    {
      "cell_type": "markdown",
      "metadata": {
        "id": "EaOSM3iBkzts"
      },
      "source": [
        "https://github.com/guofei9987/scikit-opt"
      ]
    },
    {
      "cell_type": "code",
      "metadata": {
        "id": "h9iWucrjfFAs"
      },
      "source": [
        "!pip install scikit-opt"
      ],
      "execution_count": null,
      "outputs": []
    },
    {
      "cell_type": "markdown",
      "metadata": {
        "id": "HMJGOTOfksnq"
      },
      "source": [
        "### Otimizações Evolutivas"
      ]
    },
    {
      "cell_type": "markdown",
      "metadata": {
        "id": "iqMyw7xyk3Ts"
      },
      "source": [
        "- [Algoritmos Genéticos](https://github.com/guofei9987/scikit-opt/blob/master/examples/demo_ga.py)\n",
        "- [Evolução Diferencial](https://github.com/guofei9987/scikit-opt/blob/master/examples/demo_de.py)\n",
        "- [Enxame de Partículas](https://github.com/guofei9987/scikit-opt/blob/master/examples/demo_pso.py)\n",
        "- [Recozimento Simulado](https://github.com/guofei9987/scikit-opt/blob/master/examples/demo_sa.py)\n",
        "- [Colônia de Formigas](https://github.com/guofei9987/scikit-opt/blob/master/examples/demo_aca_tsp.py)\n",
        "- [Sistema Imunológico Artificial](https://github.com/guofei9987/scikit-opt/blob/master/examples/demo_ia.py)\n",
        "- [Enxame de Peixes Artificiais](https://github.com/guofei9987/scikit-opt/blob/master/examples/demo_afsa.py)"
      ]
    },
    {
      "cell_type": "markdown",
      "metadata": {
        "id": "R2v_TblamDg-"
      },
      "source": [
        "### Funções Objetivas para Referência (*Benchmark*)"
      ]
    },
    {
      "cell_type": "markdown",
      "metadata": {
        "id": "14qlHQqPno3L"
      },
      "source": [
        "**COPIAR** o código fonte de cada uma das funções objetivas do link abaixo.\n",
        "\n",
        "https://github.com/ljvmiranda921/pyswarms/blob/d928dfda3c9ad78be731d432bb06aecd78c2a497/pyswarms/utils/functions/single_obj.py\n",
        "\n",
        "Não utilize a biblioteca PySwarms neste trabalho!"
      ]
    },
    {
      "cell_type": "markdown",
      "metadata": {
        "id": "RT9t6-tX0X1s"
      },
      "source": [
        "- Ackley's, ackley\n",
        "- Beale, beale\n",
        "- Booth, booth\n",
        "- Bukin's No 6, bukin6\n",
        "- Cross-in-Tray, crossintray\n",
        "- Easom, easom\n",
        "- Eggholder, eggholder\n",
        "- Goldstein, goldstein\n",
        "- Himmelblau's, himmelblau\n",
        "- Holder Table, holdertable\n",
        "- Levi, levi\n",
        "- Matyas, matyas\n",
        "- Rastrigin, rastrigin\n",
        "- Rosenbrock, rosenbrock\n",
        "- Schaffer No 2, schaffer2\n",
        "- Sphere, sphere\n",
        "- Three Hump Camel, threehump"
      ]
    },
    {
      "cell_type": "markdown",
      "metadata": {
        "id": "4lCXWG5Q7SEI"
      },
      "source": [
        "# Desenvolvimento"
      ]
    },
    {
      "cell_type": "markdown",
      "metadata": {
        "id": "Dy77ahhI7T_F"
      },
      "source": [
        "Coloque seu código aqui."
      ]
    },
    {
      "cell_type": "code",
      "metadata": {
        "id": "r93QBr617VoR"
      },
      "source": [
        ""
      ],
      "execution_count": null,
      "outputs": []
    },
    {
      "cell_type": "markdown",
      "metadata": {
        "id": "HaxYEZJFBvP6"
      },
      "source": [
        "Não esqueça de preencher o formulário quando obter os resultados:\n",
        "\n",
        "https://forms.gle/BJN9UpA6Lp7mVTwh6"
      ]
    }
  ]
}
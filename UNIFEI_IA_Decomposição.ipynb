{
  "nbformat": 4,
  "nbformat_minor": 0,
  "metadata": {
    "colab": {
      "name": "UNIFEI IA Decomposição.ipynb",
      "provenance": [],
      "collapsed_sections": [],
      "authorship_tag": "ABX9TyMxWC8p1FTU+TuMb7U0Fmj1",
      "include_colab_link": true
    },
    "kernelspec": {
      "name": "python3",
      "display_name": "Python 3"
    },
    "language_info": {
      "name": "python"
    }
  },
  "cells": [
    {
      "cell_type": "markdown",
      "metadata": {
        "id": "view-in-github",
        "colab_type": "text"
      },
      "source": [
        "<a href=\"https://colab.research.google.com/github/valerio-unifei/UNIFEI-IA-Aulas/blob/main/UNIFEI_IA_Decomposi%C3%A7%C3%A3o.ipynb\" target=\"_parent\"><img src=\"https://colab.research.google.com/assets/colab-badge.svg\" alt=\"Open In Colab\"/></a>"
      ]
    },
    {
      "cell_type": "markdown",
      "metadata": {
        "id": "5jNEZ8eM0FEB"
      },
      "source": [
        "# Decomposição da Matriz"
      ]
    },
    {
      "cell_type": "markdown",
      "metadata": {
        "id": "24f9H0rg3C6N"
      },
      "source": [
        "## Dataset"
      ]
    },
    {
      "cell_type": "code",
      "metadata": {
        "id": "wryjM5wkzQqt"
      },
      "source": [
        "import pandas as pd\n",
        "from sklearn import datasets\n",
        "\n",
        "breast = datasets.load_breast_cancer()\n",
        "pd.DataFrame(breast.data,columns=breast.feature_names)"
      ],
      "execution_count": null,
      "outputs": []
    },
    {
      "cell_type": "markdown",
      "metadata": {
        "id": "6OnKGmCL3OFz"
      },
      "source": [
        "## Dimensões e Qualidade da Generalização"
      ]
    },
    {
      "cell_type": "code",
      "metadata": {
        "id": "aVZlZ2B36tvO"
      },
      "source": [
        "import time\n",
        "from sklearn import decomposition, neural_network, model_selection\n",
        "\n",
        "resultados = []\n",
        "\n",
        "y = breast.target\n",
        "\n",
        "for componentes in range(5, breast.data.shape[1],5):\n",
        "\n",
        "  decomposicoes = (\n",
        "      (decomposition.PCA(n_components=componentes, random_state=42),'PCA'),\n",
        "      (decomposition.TruncatedSVD(n_components=componentes,random_state=42),'LSA'),\n",
        "      (decomposition.FactorAnalysis(n_components=componentes,random_state=42),'FA'),\n",
        "      (decomposition.FastICA(n_components=componentes,random_state=42),'ICA'),\n",
        "      (decomposition.NMF(n_components=componentes,random_state=42,init='random'),'NMF'),\n",
        "      (decomposition.LatentDirichletAllocation(n_components=componentes,random_state=42),'LDA'),\n",
        "    )\n",
        "\n",
        "  for dcp, nome in decomposicoes:\n",
        "    t0 = time.time()\n",
        "    X = dcp.fit_transform(breast.data,y)\n",
        "    tempo = time.time() - t0\n",
        "\n",
        "    clf = neural_network.MLPClassifier(hidden_layer_sizes=(100,50,),random_state=42)\n",
        "    res = model_selection.cross_validate(clf, X, y, cv=5,n_jobs=-1,scoring=['accuracy','f1_macro','average_precision'])\n",
        "    clf.fit(X,y)\n",
        "\n",
        "    linha = []\n",
        "    linha.append(componentes)\n",
        "    linha.append(nome)\n",
        "    linha.append(tempo)\n",
        "    linha.append(sum(res['fit_time'])/5)\n",
        "    linha.append(sum(res['test_accuracy'])/5)\n",
        "    linha.append(sum(res['test_f1_macro'])/5)\n",
        "    linha.append(sum(res['test_average_precision'])/5)\n",
        "    resultados.append(linha)\n",
        "\n",
        "pd.DataFrame(resultados, columns=['Atributos','Técnica','Tempo Redução','Tempo Treinamento','Acurácia','F1','Precisão Média'])"
      ],
      "execution_count": null,
      "outputs": []
    }
  ]
}
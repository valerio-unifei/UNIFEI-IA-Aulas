{
  "nbformat": 4,
  "nbformat_minor": 0,
  "metadata": {
    "colab": {
      "name": "UNIFEI IA Regressão Não Linear.ipynb",
      "provenance": [],
      "authorship_tag": "ABX9TyNaKlyQlAj8ZO9x8wEmsEsT",
      "include_colab_link": true
    },
    "kernelspec": {
      "name": "python3",
      "display_name": "Python 3"
    },
    "language_info": {
      "name": "python"
    }
  },
  "cells": [
    {
      "cell_type": "markdown",
      "metadata": {
        "id": "view-in-github",
        "colab_type": "text"
      },
      "source": [
        "<a href=\"https://colab.research.google.com/github/valerio-unifei/UNIFEI-IA-Aulas/blob/main/UNIFEI_IA_Regress%C3%A3o_N%C3%A3o_Linear.ipynb\" target=\"_parent\"><img src=\"https://colab.research.google.com/assets/colab-badge.svg\" alt=\"Open In Colab\"/></a>"
      ]
    },
    {
      "cell_type": "markdown",
      "metadata": {
        "id": "_V47bsEZIKGl"
      },
      "source": [
        "# Dataset"
      ]
    },
    {
      "cell_type": "code",
      "metadata": {
        "id": "JIknB3DPNqdY"
      },
      "source": [
        "from sklearn import datasets as ds\n",
        "from matplotlib import pyplot as plt\n",
        "\n",
        "#https://scikit-learn.org/stable/datasets/toy_dataset.html#boston-dataset\n",
        "X,y = ds.load_boston(return_X_y=True)\n",
        "X.shape"
      ],
      "execution_count": null,
      "outputs": []
    },
    {
      "cell_type": "code",
      "metadata": {
        "id": "slUUBkmv51kY"
      },
      "source": [
        "#Normalizando dataset\n",
        "from sklearn.preprocessing import StandardScaler\n",
        "\n",
        "norma = StandardScaler()\n",
        "norma.fit(X)\n",
        "Xn = norma.transform(X)\n",
        "norma.mean_"
      ],
      "execution_count": null,
      "outputs": []
    },
    {
      "cell_type": "markdown",
      "metadata": {
        "id": "4EGkfbEcOCIW"
      },
      "source": [
        "#Aprendizado Regressivo"
      ]
    },
    {
      "cell_type": "code",
      "metadata": {
        "id": "FuA456wI0ePx"
      },
      "source": [
        "# Modelos de aprendizado regressivo\n",
        "from sklearn.kernel_ridge import KernelRidge\n",
        "from sklearn.svm import SVR\n",
        "from sklearn.tree import DecisionTreeRegressor\n",
        "from sklearn.neural_network import MLPRegressor\n",
        "#busca exastiva de melhores parâmetros no modelo de treinamento\n",
        "from sklearn.model_selection import GridSearchCV\n",
        "#melhora a impressão de resultados com o DataFrame\n",
        "import pandas as pd"
      ],
      "execution_count": 4,
      "outputs": []
    },
    {
      "cell_type": "markdown",
      "metadata": {
        "id": "t9BGXd1480fC"
      },
      "source": [
        "## Avaliações dos Métodos com Ajuste de Parâmetros"
      ]
    },
    {
      "cell_type": "code",
      "metadata": {
        "id": "_GZm5l7CppgV"
      },
      "source": [
        "buscaKR = GridSearchCV(\n",
        "    estimator = KernelRidge(),\n",
        "    param_grid = {\n",
        "        'alpha':[0.5, 0.7, 1.0],\n",
        "        'kernel':('linear', 'polynomial', 'rbf', 'sigmoid'),\n",
        "        },\n",
        "    n_jobs = 4,\n",
        "    cv = 5,\n",
        "    verbose = 0,\n",
        "    )\n",
        "\n",
        "buscaKR.fit(Xn,y)\n",
        "# lista resultados ordenados pelo melhor R**2 (score)\n",
        "pd.DataFrame(buscaKR.cv_results_).sort_values('rank_test_score')"
      ],
      "execution_count": null,
      "outputs": []
    },
    {
      "cell_type": "code",
      "metadata": {
        "id": "bn4pSgWyvSon"
      },
      "source": [
        "buscaSVR = GridSearchCV(\n",
        "    estimator = SVR(),\n",
        "    param_grid = {\n",
        "        'kernel':('linear', 'poly', 'rbf', 'sigmoid'),\n",
        "        },\n",
        "    n_jobs = 4,\n",
        "    cv = 4,\n",
        "    verbose = 0,\n",
        "    )\n",
        "\n",
        "buscaSVR.fit(Xn,y)\n",
        "pd.DataFrame(buscaSVR.cv_results_).sort_values('rank_test_score')"
      ],
      "execution_count": null,
      "outputs": []
    },
    {
      "cell_type": "code",
      "metadata": {
        "id": "zvuPLhS6vptt"
      },
      "source": [
        "buscaDTR = GridSearchCV(\n",
        "    estimator = DecisionTreeRegressor(),\n",
        "    param_grid = {\n",
        "        'criterion':('mse', 'friedman_mse', 'mae', 'poisson'),\n",
        "        'max_depth':[5,10,20]\n",
        "        },\n",
        "    n_jobs = 4,\n",
        "    cv = 3,\n",
        "    verbose = 0,\n",
        "    )\n",
        "\n",
        "buscaDTR.fit(Xn,y)\n",
        "pd.DataFrame(buscaDTR.cv_results_).sort_values('rank_test_score')"
      ],
      "execution_count": null,
      "outputs": []
    },
    {
      "cell_type": "code",
      "metadata": {
        "id": "qKrTKVCb49AT"
      },
      "source": [
        "buscaMLP = GridSearchCV(\n",
        "    estimator = MLPRegressor(),\n",
        "    param_grid = {\n",
        "        'hidden_layer_sizes':[(50,50,),(100,)],\n",
        "        'activation':('identity','logistic', 'tanh', 'relu'),\n",
        "        'solver':('lbfgs','sgd','adam'),\n",
        "        },\n",
        "    n_jobs = 4,\n",
        "    cv = 2,\n",
        "    verbose = 0,\n",
        "    )\n",
        "\n",
        "buscaMLP.fit(Xn,y)\n",
        "pd.DataFrame(buscaMLP.cv_results_).sort_values('rank_test_score')"
      ],
      "execution_count": null,
      "outputs": []
    }
  ]
}
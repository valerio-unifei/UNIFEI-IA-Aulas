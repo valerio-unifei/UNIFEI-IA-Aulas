{
  "nbformat": 4,
  "nbformat_minor": 0,
  "metadata": {
    "colab": {
      "name": "UNIFEI IA Modelos Lineares de Regressão.ipynb",
      "provenance": [],
      "authorship_tag": "ABX9TyNH57Rs3VfKq0Ek5zPVYVqL",
      "include_colab_link": true
    },
    "kernelspec": {
      "name": "python3",
      "display_name": "Python 3"
    },
    "language_info": {
      "name": "python"
    }
  },
  "cells": [
    {
      "cell_type": "markdown",
      "metadata": {
        "id": "view-in-github",
        "colab_type": "text"
      },
      "source": [
        "<a href=\"https://colab.research.google.com/github/valerio-unifei/UNIFEI-IA-Aulas/blob/main/UNIFEI_IA_Modelos_Lineares_de_Regress%C3%A3o.ipynb\" target=\"_parent\"><img src=\"https://colab.research.google.com/assets/colab-badge.svg\" alt=\"Open In Colab\"/></a>"
      ]
    },
    {
      "cell_type": "markdown",
      "metadata": {
        "id": "O2roEmK3D7_7"
      },
      "source": [
        "# Comparação de Aprendizados Regressivos Lineares"
      ]
    },
    {
      "cell_type": "markdown",
      "metadata": {
        "id": "-8rW38xgEtOE"
      },
      "source": [
        "## Base de dados"
      ]
    },
    {
      "cell_type": "markdown",
      "metadata": {
        "id": "jADEW8LiE6rM"
      },
      "source": [
        "https://scikit-learn.org/stable/datasets/toy_dataset.html#diabetes-dataset"
      ]
    },
    {
      "cell_type": "code",
      "metadata": {
        "colab": {
          "base_uri": "https://localhost:8080/"
        },
        "id": "GCnzi1HWElI9",
        "outputId": "ca2edf1f-7820-4f68-cc40-861a550c8678"
      },
      "source": [
        "import numpy as np\n",
        "from sklearn import datasets\n",
        "\n",
        "# base de dados\n",
        "diabetes = datasets.load_diabetes()\n",
        "print('Atributos do dataset Diabetes = ',diabetes.feature_names,'(',len(diabetes.feature_names),') Atributos' )\n",
        "X = diabetes.data[:, np.newaxis, 2] # usando apenas atributo 2\n",
        "y = diabetes.target\n",
        "X.shape, y.shape"
      ],
      "execution_count": 19,
      "outputs": [
        {
          "output_type": "stream",
          "text": [
            "Atributos do dataset Diabetes =  ['age', 'sex', 'bmi', 'bp', 's1', 's2', 's3', 's4', 's5', 's6'] ( 10 ) Atributos\n"
          ],
          "name": "stdout"
        },
        {
          "output_type": "execute_result",
          "data": {
            "text/plain": [
              "((442, 1), (442,))"
            ]
          },
          "metadata": {
            "tags": []
          },
          "execution_count": 19
        }
      ]
    },
    {
      "cell_type": "markdown",
      "metadata": {
        "id": "sIAQ4EjzE8UN"
      },
      "source": [
        "## Modelos de Treinamento Supervisionado Regressivo Linear"
      ]
    },
    {
      "cell_type": "code",
      "metadata": {
        "colab": {
          "base_uri": "https://localhost:8080/"
        },
        "id": "-EQPQqnX_SlW",
        "outputId": "d4f2c680-7ea9-4e37-cdb0-93aef07ec611"
      },
      "source": [
        "from sklearn import linear_model\n",
        "\n",
        "modelos = [\n",
        "           linear_model.LinearRegression(),\n",
        "           linear_model.Ridge(alpha=1.0),\n",
        "           linear_model.Lasso(alpha=0.1),\n",
        "           linear_model.ElasticNet(random_state=42),\n",
        "           linear_model.LogisticRegression(random_state=42),\n",
        "           ]\n",
        "\n",
        "for rgr in modelos:\n",
        "  rgr.fit(X,y)\n",
        "  r2 = rgr.score(X,y)\n",
        "  print(rgr.__class__.__name__,'R2 =',r2)"
      ],
      "execution_count": 20,
      "outputs": [
        {
          "output_type": "stream",
          "text": [
            "LinearRegression R2 = 0.3439237602253803\n",
            "Ridge R2 = 0.25794282016905146\n",
            "Lasso R2 = 0.3431783831941496\n",
            "ElasticNet R2 = 0.00237308720005569\n",
            "LogisticRegression R2 = 0.01809954751131222\n"
          ],
          "name": "stdout"
        }
      ]
    }
  ]
}
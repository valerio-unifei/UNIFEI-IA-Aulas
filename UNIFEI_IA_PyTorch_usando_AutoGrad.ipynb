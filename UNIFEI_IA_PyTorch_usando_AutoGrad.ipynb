{
  "nbformat": 4,
  "nbformat_minor": 0,
  "metadata": {
    "colab": {
      "name": "UNIFEI - IA - PyTorch usando AutoGrad.ipynb",
      "provenance": [],
      "authorship_tag": "ABX9TyPa3aoRa7ltG1KcIWaCzTre",
      "include_colab_link": true
    },
    "kernelspec": {
      "name": "python3",
      "display_name": "Python 3"
    },
    "language_info": {
      "name": "python"
    },
    "accelerator": "GPU"
  },
  "cells": [
    {
      "cell_type": "markdown",
      "metadata": {
        "id": "view-in-github",
        "colab_type": "text"
      },
      "source": [
        "<a href=\"https://colab.research.google.com/github/valerio-unifei/UNIFEI-IA-Aulas/blob/main/UNIFEI_IA_PyTorch_usando_AutoGrad.ipynb\" target=\"_parent\"><img src=\"https://colab.research.google.com/assets/colab-badge.svg\" alt=\"Open In Colab\"/></a>"
      ]
    },
    {
      "cell_type": "code",
      "metadata": {
        "colab": {
          "base_uri": "https://localhost:8080/"
        },
        "id": "Fk4bM0ot26Wm",
        "outputId": "2d109bd1-f5d3-403c-f89c-61928f58bf99"
      },
      "source": [
        "import torch\n",
        "import math\n",
        "\n",
        "dtype = torch.float\n",
        "#device = torch.device(\"cpu\")\n",
        "device = torch.device(\"cuda:0\")\n",
        "\n",
        "#Criação de tensores para conter entradas e saídas.\n",
        "x = torch.linspace(\n",
        "    -math.pi, \n",
        "    math.pi, \n",
        "    2000, \n",
        "    device=device, \n",
        "    dtype=dtype, \n",
        "    requires_grad=False, #sem cálculo de gradientes para retro propagação \n",
        "    )\n",
        "y = torch.sin(x)\n",
        "\n",
        "# Criação de Tensores para os pesos.\n",
        "# Para um polinômio de terceira ordem, precisamos de 4 pesos: \n",
        "#  y = a + b x + c x ^ 2 + d x ^ 3\n",
        "a = torch.randn((), device=device, dtype=dtype, requires_grad=True)\n",
        "b = torch.randn((), device=device, dtype=dtype, requires_grad=True)\n",
        "c = torch.randn((), device=device, dtype=dtype, requires_grad=True)\n",
        "d = torch.randn((), device=device, dtype=dtype, requires_grad=True)\n",
        "# Com cálculo de gradientes para retro propagação\n",
        "\n",
        "learning_rate = 1e-6\n",
        "for t in range(2000):\n",
        "    # Passo a frente: calculo de Y com tensores\n",
        "    y_pred = a + b * x + c * x ** 2 + d * x ** 3\n",
        "\n",
        "    # Calculo de perdas com tensores\n",
        "    # Perda no formato (1,)\n",
        "    loss = (y_pred - y).pow(2).sum()\n",
        "    if t % 100 == 99:\n",
        "        print('Iter:',t, 'Perda:',loss.item()) # valor escalar da perda\n",
        "\n",
        "    # Retro propagação: cálculo de gradiente nos tensores com 'requires_grad'\n",
        "    loss.backward()\n",
        "    # Os tensores a.grad, b.grad. c.grad e d.grad armazenam os gradientes de perdas\n",
        "\n",
        "    # Atualiza os pesos pelo gradiente\n",
        "    with torch.no_grad(): # precisa desativar o autograd para os tensores já calculados\n",
        "        a -= learning_rate * a.grad\n",
        "        b -= learning_rate * b.grad\n",
        "        c -= learning_rate * c.grad\n",
        "        d -= learning_rate * d.grad\n",
        "\n",
        "        # Os gradientes são apagados após atualizar os pesos\n",
        "        a.grad = None\n",
        "        b.grad = None\n",
        "        c.grad = None\n",
        "        d.grad = None\n",
        "\n",
        "print(f'Resultado: y = {a.item()} + {b.item()} x + {c.item()} x^2 + {d.item()} x^3')"
      ],
      "execution_count": 3,
      "outputs": [
        {
          "output_type": "stream",
          "text": [
            "Iter: 99 Perda: 46.334693908691406\n",
            "Iter: 199 Perda: 34.4248046875\n",
            "Iter: 299 Perda: 26.319011688232422\n",
            "Iter: 399 Perda: 20.792747497558594\n",
            "Iter: 499 Perda: 17.02082633972168\n",
            "Iter: 599 Perda: 14.443408012390137\n",
            "Iter: 699 Perda: 12.680137634277344\n",
            "Iter: 799 Perda: 11.472490310668945\n",
            "Iter: 899 Perda: 10.644426345825195\n",
            "Iter: 999 Perda: 10.075986862182617\n",
            "Iter: 1099 Perda: 9.685328483581543\n",
            "Iter: 1199 Perda: 9.416549682617188\n",
            "Iter: 1299 Perda: 9.231426239013672\n",
            "Iter: 1399 Perda: 9.103771209716797\n",
            "Iter: 1499 Perda: 9.015657424926758\n",
            "Iter: 1599 Perda: 8.954765319824219\n",
            "Iter: 1699 Perda: 8.91264533996582\n",
            "Iter: 1799 Perda: 8.883481979370117\n",
            "Iter: 1899 Perda: 8.86326789855957\n",
            "Iter: 1999 Perda: 8.8492431640625\n",
            "Resultado: y = 0.005215127021074295 + 0.8594560623168945 x + -0.000899697479326278 x^2 + -0.09371660649776459 x^3\n"
          ],
          "name": "stdout"
        }
      ]
    }
  ]
}